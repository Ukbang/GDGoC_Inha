{
 "cells": [
  {
   "cell_type": "code",
   "execution_count": null,
   "metadata": {},
   "outputs": [],
   "source": [
    "from langchain_core.prompts import ChatPromptTemplate\n",
    "from langchain_openai import ChatOpenAI\n",
    "from langchain.agents import create_tool_calling_agent, AgentExecutor\n",
    "from langchain_community.chat_message_histories import ChatMessageHistory\n",
    "from langchain_core.runnables.history import RunnableWithMessageHistory\n",
    "from langchain_community.agent_toolkits import FileManagementToolkit\n",
    "from langchain.tools import tool\n",
    "from typing import List, Dict\n",
    "import dotenv"
   ]
  },
  {
   "cell_type": "code",
   "execution_count": 29,
   "metadata": {},
   "outputs": [
    {
     "data": {
      "text/plain": [
       "True"
      ]
     },
     "execution_count": 29,
     "metadata": {},
     "output_type": "execute_result"
    }
   ],
   "source": [
    "dotenv.load_dotenv()"
   ]
  },
  {
   "cell_type": "code",
   "execution_count": 2,
   "metadata": {},
   "outputs": [],
   "source": [
    "working_directory = \"test\""
   ]
  },
  {
   "cell_type": "code",
   "execution_count": 3,
   "metadata": {},
   "outputs": [],
   "source": [
    "toolkit = FileManagementToolkit(root_dir=working_directory)"
   ]
  },
  {
   "cell_type": "code",
   "execution_count": 5,
   "metadata": {},
   "outputs": [],
   "source": [
    "available_tools = toolkit.get_tools()"
   ]
  },
  {
   "cell_type": "code",
   "execution_count": 6,
   "metadata": {},
   "outputs": [
    {
     "name": "stdout",
     "output_type": "stream",
     "text": [
      "[사용 가능한 파일 관리 도구들]\n",
      "- copy_file: Create a copy of a file in a specified location\n",
      "- file_delete: Delete a file\n",
      "- file_search: Recursively search for files in a subdirectory that match the regex pattern\n",
      "- move_file: Move or rename a file from one location to another\n",
      "- read_file: Read file from disk\n",
      "- write_file: Write file to disk\n",
      "- list_directory: List files and directories in a specified folder\n"
     ]
    }
   ],
   "source": [
    "print(\"[사용 가능한 파일 관리 도구들]\")\n",
    "for tool in available_tools:\n",
    "    print(f\"- {tool.name}: {tool.description}\")"
   ]
  },
  {
   "cell_type": "code",
   "execution_count": 7,
   "metadata": {},
   "outputs": [
    {
     "data": {
      "text/plain": [
       "[ReadFileTool(root_dir='test'),\n",
       " DeleteFileTool(root_dir='test'),\n",
       " WriteFileTool(root_dir='test'),\n",
       " ListDirectoryTool(root_dir='test')]"
      ]
     },
     "execution_count": 7,
     "metadata": {},
     "output_type": "execute_result"
    }
   ],
   "source": [
    "tools = FileManagementToolkit(\n",
    "    root_dir=working_directory,\n",
    "    selected_tools=[\"read_file\", \"file_delete\", \"write_file\", \"list_directory\"],\n",
    ").get_tools()\n",
    "\n",
    "tools"
   ]
  },
  {
   "cell_type": "code",
   "execution_count": 8,
   "metadata": {},
   "outputs": [
    {
     "data": {
      "text/plain": [
       "'File written successfully to example.txt.'"
      ]
     },
     "execution_count": 8,
     "metadata": {},
     "output_type": "execute_result"
    }
   ],
   "source": [
    "read_tool, delete_tool, write_tool, list_tool = tools\n",
    "\n",
    "# 파일 쓰기\n",
    "write_tool.invoke({\"file_path\": \"example.txt\", \"text\": \"Hello World!\"})"
   ]
  },
  {
   "cell_type": "code",
   "execution_count": 12,
   "metadata": {},
   "outputs": [
    {
     "data": {
      "text/plain": [
       "'File written successfully to example23.txt.'"
      ]
     },
     "execution_count": 12,
     "metadata": {},
     "output_type": "execute_result"
    }
   ],
   "source": [
    "write_tool.invoke({\"file_path\": \"example23.txt\", \"text\": \"GoodBye World!\"})"
   ]
  },
  {
   "cell_type": "code",
   "execution_count": 15,
   "metadata": {},
   "outputs": [],
   "source": [
    "from IPython.display import Markdown"
   ]
  },
  {
   "cell_type": "code",
   "execution_count": 17,
   "metadata": {},
   "outputs": [],
   "source": [
    "result = list_tool.invoke({})"
   ]
  },
  {
   "cell_type": "code",
   "execution_count": 63,
   "metadata": {},
   "outputs": [],
   "source": [
    "llm = ChatOpenAI(model=\"gpt-4o-mini\",\n",
    "                 temperature=0.,)"
   ]
  },
  {
   "cell_type": "code",
   "execution_count": 64,
   "metadata": {},
   "outputs": [],
   "source": [
    "prompt = ChatPromptTemplate.from_messages(\n",
    "    [\n",
    "        (\n",
    "            \"system\",\n",
    "            \"당신은 강력한 어시스턴트입니다. 어떤 질문에도 훌륭한 답변을 줄 수 있습니다. \"\n",
    "            \"Make sure to use the `file_management` tool to manage files. \",\n",
    "        ),\n",
    "        (\"placeholder\", \"{chat_history}\"),\n",
    "        (\"human\", \"{query}\"),\n",
    "        (\"placeholder\", \"{agent_scratchpad}\"),\n",
    "    ]\n",
    ")"
   ]
  },
  {
   "cell_type": "code",
   "execution_count": 65,
   "metadata": {},
   "outputs": [],
   "source": [
    "agent = create_tool_calling_agent(llm, tools, prompt)"
   ]
  },
  {
   "cell_type": "code",
   "execution_count": 66,
   "metadata": {},
   "outputs": [],
   "source": [
    "agent_executor = AgentExecutor(\n",
    "    agent=agent,\n",
    "    tools=tools,\n",
    "    verbose=False,\n",
    "    handle_parsing_errors=True,\n",
    ")"
   ]
  },
  {
   "cell_type": "code",
   "execution_count": 67,
   "metadata": {},
   "outputs": [],
   "source": [
    "store = {}\n",
    "\n",
    "# session_id 를 기반으로 세션 기록을 가져오는 함수\n",
    "def get_session_history(session_ids):\n",
    "    if session_ids not in store:  # session_id 가 store에 없는 경우\n",
    "        # 새로운 ChatMessageHistory 객체를 생성하여 store에 저장\n",
    "        store[session_ids] = ChatMessageHistory()\n",
    "    return store[session_ids]  # 해당 세션 ID에 대한 세션 기록 반환"
   ]
  },
  {
   "cell_type": "code",
   "execution_count": 68,
   "metadata": {},
   "outputs": [],
   "source": [
    "# 채팅 메시지 기록이 추가된 에이전트를 생성합니다.\n",
    "agent_with_chat_history = RunnableWithMessageHistory(\n",
    "    agent_executor,\n",
    "    # 대화 session_id\n",
    "    get_session_history,\n",
    "    # 프롬프트의 질문이 입력되는 key: \"query\"\n",
    "    input_messages_key=\"query\",\n",
    "    # 프롬프트의 메시지가 입력되는 key: \"chat_history\"\n",
    "    history_messages_key=\"chat_history\",\n",
    ")"
   ]
  },
  {
   "cell_type": "code",
   "execution_count": 69,
   "metadata": {},
   "outputs": [],
   "source": [
    "result = agent_with_chat_history.invoke(\n",
    "        {\"query\":\"\"\"디렉토리에 Aiffel10.txt라는 파일을 생성하고 내부에는 '안녕하세요. 방승욱입니다.' 라고 입력해줘\"\"\"\n",
    "        },\n",
    "        config = {\"configurable\":{\"session_id\": \"a1\"}})"
   ]
  },
  {
   "cell_type": "code",
   "execution_count": 70,
   "metadata": {},
   "outputs": [],
   "source": [
    "result2 = agent_with_chat_history.stream(\n",
    "        {\"query\":\"\"\"디렉토리에 Aiffel10.txt라는 파일을 생성하고 내부에는 '안녕하세요. 방승욱입니다.' 라고 입력해줘\"\"\"\n",
    "        },\n",
    "        config = {\"configurable\":{\"session_id\": \"a2\"}})"
   ]
  },
  {
   "cell_type": "code",
   "execution_count": 71,
   "metadata": {},
   "outputs": [
    {
     "data": {
      "text/plain": [
       "{'query': \"디렉토리에 Aiffel10.txt라는 파일을 생성하고 내부에는 '안녕하세요. 방승욱입니다.' 라고 입력해줘\",\n",
       " 'chat_history': [],\n",
       " 'output': \"Aiffel10.txt 파일이 생성되었고, 내부에 '안녕하세요. 방승욱입니다.'라는 내용이 입력되었습니다.\"}"
      ]
     },
     "execution_count": 71,
     "metadata": {},
     "output_type": "execute_result"
    }
   ],
   "source": [
    "result"
   ]
  },
  {
   "cell_type": "code",
   "execution_count": 72,
   "metadata": {},
   "outputs": [
    {
     "data": {
      "text/plain": [
       "<generator object RunnableBindingBase.stream at 0x0000024C5F795D20>"
      ]
     },
     "execution_count": 72,
     "metadata": {},
     "output_type": "execute_result"
    }
   ],
   "source": [
    "result2"
   ]
  },
  {
   "cell_type": "code",
   "execution_count": 61,
   "metadata": {},
   "outputs": [
    {
     "data": {
      "text/plain": [
       "{'a1': InMemoryChatMessageHistory(messages=[])}"
      ]
     },
     "execution_count": 61,
     "metadata": {},
     "output_type": "execute_result"
    }
   ],
   "source": [
    "store"
   ]
  },
  {
   "cell_type": "code",
   "execution_count": 73,
   "metadata": {},
   "outputs": [
    {
     "name": "stdout",
     "output_type": "stream",
     "text": [
      "{'actions': [ToolAgentAction(tool='write_file', tool_input={'file_path': 'Aiffel10.txt', 'text': '안녕하세요. 방승욱입니다.'}, log=\"\\nInvoking: `write_file` with `{'file_path': 'Aiffel10.txt', 'text': '안녕하세요. 방승욱입니다.'}`\\n\\n\\n\", message_log=[AIMessageChunk(content='', additional_kwargs={'tool_calls': [{'index': 0, 'id': 'call_c4tfgFWyepuUQQrXLAwKJ8iH', 'function': {'arguments': '{\"file_path\":\"Aiffel10.txt\",\"text\":\"안녕하세요. 방승욱입니다.\"}', 'name': 'write_file'}, 'type': 'function'}]}, response_metadata={'finish_reason': 'tool_calls', 'model_name': 'gpt-4o-mini-2024-07-18', 'system_fingerprint': 'fp_06737a9306'}, id='run-e374720d-f881-4d95-a926-7284437a555e', tool_calls=[{'name': 'write_file', 'args': {'file_path': 'Aiffel10.txt', 'text': '안녕하세요. 방승욱입니다.'}, 'id': 'call_c4tfgFWyepuUQQrXLAwKJ8iH', 'type': 'tool_call'}], tool_call_chunks=[{'name': 'write_file', 'args': '{\"file_path\":\"Aiffel10.txt\",\"text\":\"안녕하세요. 방승욱입니다.\"}', 'id': 'call_c4tfgFWyepuUQQrXLAwKJ8iH', 'index': 0, 'type': 'tool_call_chunk'}])], tool_call_id='call_c4tfgFWyepuUQQrXLAwKJ8iH')], 'messages': [AIMessageChunk(content='', additional_kwargs={'tool_calls': [{'index': 0, 'id': 'call_c4tfgFWyepuUQQrXLAwKJ8iH', 'function': {'arguments': '{\"file_path\":\"Aiffel10.txt\",\"text\":\"안녕하세요. 방승욱입니다.\"}', 'name': 'write_file'}, 'type': 'function'}]}, response_metadata={'finish_reason': 'tool_calls', 'model_name': 'gpt-4o-mini-2024-07-18', 'system_fingerprint': 'fp_06737a9306'}, id='run-e374720d-f881-4d95-a926-7284437a555e', tool_calls=[{'name': 'write_file', 'args': {'file_path': 'Aiffel10.txt', 'text': '안녕하세요. 방승욱입니다.'}, 'id': 'call_c4tfgFWyepuUQQrXLAwKJ8iH', 'type': 'tool_call'}], tool_call_chunks=[{'name': 'write_file', 'args': '{\"file_path\":\"Aiffel10.txt\",\"text\":\"안녕하세요. 방승욱입니다.\"}', 'id': 'call_c4tfgFWyepuUQQrXLAwKJ8iH', 'index': 0, 'type': 'tool_call_chunk'}])]}\n",
      "{'steps': [AgentStep(action=ToolAgentAction(tool='write_file', tool_input={'file_path': 'Aiffel10.txt', 'text': '안녕하세요. 방승욱입니다.'}, log=\"\\nInvoking: `write_file` with `{'file_path': 'Aiffel10.txt', 'text': '안녕하세요. 방승욱입니다.'}`\\n\\n\\n\", message_log=[AIMessageChunk(content='', additional_kwargs={'tool_calls': [{'index': 0, 'id': 'call_c4tfgFWyepuUQQrXLAwKJ8iH', 'function': {'arguments': '{\"file_path\":\"Aiffel10.txt\",\"text\":\"안녕하세요. 방승욱입니다.\"}', 'name': 'write_file'}, 'type': 'function'}]}, response_metadata={'finish_reason': 'tool_calls', 'model_name': 'gpt-4o-mini-2024-07-18', 'system_fingerprint': 'fp_06737a9306'}, id='run-e374720d-f881-4d95-a926-7284437a555e', tool_calls=[{'name': 'write_file', 'args': {'file_path': 'Aiffel10.txt', 'text': '안녕하세요. 방승욱입니다.'}, 'id': 'call_c4tfgFWyepuUQQrXLAwKJ8iH', 'type': 'tool_call'}], tool_call_chunks=[{'name': 'write_file', 'args': '{\"file_path\":\"Aiffel10.txt\",\"text\":\"안녕하세요. 방승욱입니다.\"}', 'id': 'call_c4tfgFWyepuUQQrXLAwKJ8iH', 'index': 0, 'type': 'tool_call_chunk'}])], tool_call_id='call_c4tfgFWyepuUQQrXLAwKJ8iH'), observation='File written successfully to Aiffel10.txt.')], 'messages': [FunctionMessage(content='File written successfully to Aiffel10.txt.', additional_kwargs={}, response_metadata={}, name='write_file')]}\n",
      "{'output': \"Aiffel10.txt 파일이 생성되었고, 내부에 '안녕하세요. 방승욱입니다.'라는 내용이 입력되었습니다.\", 'messages': [AIMessage(content=\"Aiffel10.txt 파일이 생성되었고, 내부에 '안녕하세요. 방승욱입니다.'라는 내용이 입력되었습니다.\", additional_kwargs={}, response_metadata={})]}\n"
     ]
    }
   ],
   "source": [
    "for step in result2:\n",
    "    print(step)"
   ]
  },
  {
   "cell_type": "code",
   "execution_count": 74,
   "metadata": {},
   "outputs": [
    {
     "data": {
      "text/plain": [
       "{'a1': InMemoryChatMessageHistory(messages=[HumanMessage(content=\"디렉토리에 Aiffel10.txt라는 파일을 생성하고 내부에는 '안녕하세요. 방승욱입니다.' 라고 입력해줘\", additional_kwargs={}, response_metadata={}), AIMessage(content=\"Aiffel10.txt 파일이 생성되었고, 내부에 '안녕하세요. 방승욱입니다.'라는 내용이 입력되었습니다.\", additional_kwargs={}, response_metadata={})]),\n",
       " 'a2': InMemoryChatMessageHistory(messages=[HumanMessage(content=\"디렉토리에 Aiffel10.txt라는 파일을 생성하고 내부에는 '안녕하세요. 방승욱입니다.' 라고 입력해줘\", additional_kwargs={}, response_metadata={}), AIMessage(content=\"Aiffel10.txt 파일이 생성되었고, 내부에 '안녕하세요. 방승욱입니다.'라는 내용이 입력되었습니다.\", additional_kwargs={}, response_metadata={})])}"
      ]
     },
     "execution_count": 74,
     "metadata": {},
     "output_type": "execute_result"
    }
   ],
   "source": [
    "store"
   ]
  }
 ],
 "metadata": {
  "kernelspec": {
   "display_name": "Modulabs",
   "language": "python",
   "name": "python3"
  },
  "language_info": {
   "codemirror_mode": {
    "name": "ipython",
    "version": 3
   },
   "file_extension": ".py",
   "mimetype": "text/x-python",
   "name": "python",
   "nbconvert_exporter": "python",
   "pygments_lexer": "ipython3",
   "version": "3.10.12"
  }
 },
 "nbformat": 4,
 "nbformat_minor": 2
}
