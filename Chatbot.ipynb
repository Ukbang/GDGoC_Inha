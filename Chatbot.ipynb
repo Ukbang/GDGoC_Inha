{
 "cells": [
  {
   "cell_type": "code",
   "execution_count": null,
   "metadata": {},
   "outputs": [],
   "source": [
    "import os\n",
    "from typing import Optional, TypedDict, Annotated\n",
    "from langchain_core.documents.base import Document\n",
    "from langchain_openai import ChatOpenAI, OpenAIEmbeddings\n",
    "from langchain.prompts import ChatPromptTemplate, MessagesPlaceholder\n",
    "from langchain_community.document_loaders import PyPDFLoader, UnstructuredFileLoader\n",
    "from langchain.text_splitter import RecursiveCharacterTextSplitter\n",
    "from langchain_core.vectorstores.base import VectorStoreRetriever\n",
    "from langchain_community.vectorstores import FAISS\n",
    "from langchain.schema.runnable import RunnablePassthrough, RunnableLambda\n",
    "from langchain_experimental.utilities import PythonREPL\n",
    "from langchain.tools.retriever import create_retriever_tool\n",
    "from langchain.tools import tool\n",
    "import warnings\n",
    "import dotenv\n",
    "\n",
    "warnings.filterwarnings(\"ignore\")"
   ]
  },
  {
   "cell_type": "code",
   "execution_count": 2,
   "metadata": {},
   "outputs": [
    {
     "data": {
      "text/plain": [
       "True"
      ]
     },
     "execution_count": 2,
     "metadata": {},
     "output_type": "execute_result"
    }
   ],
   "source": [
    "# .env파일 읽기\n",
    "dotenv.load_dotenv()\n",
    "\n",
    "# os라이브러리 이용한 읽기\n",
    "# os.environ['OPENAI_API_KEY'] = \"API-Key\"\n",
    "# os.environ[\"OMP_NUM_THREADS\"] = \"1\"\n",
    "# os.environ[\"KMP_DUPLICATE_LIB_OK\"] = \"TRUE\""
   ]
  },
  {
   "cell_type": "code",
   "execution_count": 3,
   "metadata": {},
   "outputs": [],
   "source": [
    "# LLM Load\n",
    "\n",
    "llm = ChatOpenAI(model=\"gpt-4o-mini\", \n",
    "                 temperature=0.)"
   ]
  },
  {
   "cell_type": "code",
   "execution_count": 51,
   "metadata": {},
   "outputs": [],
   "source": [
    "prompt = ChatPromptTemplate.from_messages([\n",
    "    (\"system\", \n",
    "    \"\"\"\n",
    "\n",
    "    context : {context}\n",
    "    \n",
    "    당신은 언제나 고객에게 최선을 다해 답변을 하며 말투는 굉장히 친근합니다. 직업은 전문 상담원입니다. 답변 시, 아래의 규칙을 지켜야만 합니다.\n",
    "    규칙 1. 주어진 context만을 이용하여 답변해야합니다. \n",
    "    규칙 2. 주어진 context에서 답변을 할 수 없다면 \"해당 문의는 010-2255-3366으로 연락주시면 도와드리겠습니다. 영업 시간은 오전 10시-오후 6시입니다.\" 라고 대답하세요.\n",
    "    규칙 3. 문자열에 A1, A2, A11, A22 등 필요 없는 문자는 제거한 뒤 출력합니다.\n",
    "    규칙 4. 항상 친절한 말투로 응대합니다.\n",
    "    규칙 5. 웹사이트 링크를 그대로 출력합니다. 대소문자를 명확하게 구분하세요.\n",
    "    \"\"\"),\n",
    "    (\"human\", \"{query}\")\n",
    "])"
   ]
  },
  {
   "cell_type": "code",
   "execution_count": 44,
   "metadata": {},
   "outputs": [],
   "source": [
    "# Document Embedding\n",
    "\n",
    "def embedding_file(file=\"Practice_document.pdf\"):\n",
    "    print(\"Embedding 시작\")\n",
    "    Embeddings = OpenAIEmbeddings()\n",
    "    print(\"Embedding 완료!\\n파일 로딩중\")\n",
    "    loader = UnstructuredFileLoader(file_path=f\"./files/{file}\")\n",
    "    print(\"파일 로딩 완료!\\n텍스트 스플리터 생성\")\n",
    "    text_splitter = RecursiveCharacterTextSplitter(chunk_size=300, chunk_overlap=50, separators=[\"\\n\\n\"])\n",
    "    print(\"문서 분할 시작\")\n",
    "    split_docs = loader.load_and_split(text_splitter)\n",
    "    print(\"문서 분할 완료\")\n",
    "    vector_store = FAISS.from_documents(split_docs, Embeddings)\n",
    "    print(\"벡터 저장소 생성 완료\")\n",
    "\n",
    "    retriever = vector_store.as_retriever()\n",
    "    print(\"벡터 리트리버 생성 완료\")\n",
    "\n",
    "    return retriever"
   ]
  },
  {
   "cell_type": "code",
   "execution_count": 21,
   "metadata": {},
   "outputs": [
    {
     "name": "stdout",
     "output_type": "stream",
     "text": [
      "Embedding 시작\n",
      "Embedding 완료!\n",
      "파일 로딩중\n",
      "파일 로딩 완료!\n",
      "텍스트 스플리터 생성\n",
      "문서 분할 시작작\n",
      "문서 분할 완료\n",
      "벡터 저장소 생성 완료\n",
      "벡터 리트리버 생성 완료\n"
     ]
    }
   ],
   "source": [
    "retriever = embedding_file()"
   ]
  },
  {
   "cell_type": "code",
   "execution_count": 26,
   "metadata": {},
   "outputs": [
    {
     "data": {
      "text/plain": [
       "[Document(id='c3311b5c-1aee-4e65-86e7-bb87390d11c8', metadata={'source': './files/Practice_document.pdf'}, page_content='모두의연구소 역삼 캠퍼스 (서울 강남구 역삼로 156 태광빌딩 2층, 4층) https://naver.me/GMvc9Hv5\\n\\nFAQ\\n\\n[지원 요건] Q1. 재직중(또는 재학중)인데 지원할 수 있는지 궁금해요!\\n\\nA1. 아이펠 교육과정은 약 6개월 동안 월-금, 10:00-18:00 풀타임으로 운영되고 있어 직장 또는 학교와 병행이 어렵습니다. 내일배움카드 발급이 가능한 구직자 및 대학교 졸업 예정자를 주요 대상자로 모집, 선발하고 있으니 참여 가능 사항을 꼭 확인해주세요!'),\n",
       " Document(id='d3beb99c-0571-4797-8227-de2339aaeba6', metadata={'source': './files/Practice_document.pdf'}, page_content='2\\n\\nQ17. 서류를 제출 했어요. 결과는 언제 알 수 있나요?\\n\\nA17. 제출하신 지원서는 검토 후 2-3일 이내에 결과를 안내하고 있습니다. ‘지원서 합격 → 온라인 인터뷰 → 최종 선발ʼ의 절차로 진행되고 있어 최종 합격 및 등록까지 일정 기간 소요될 수 있으니 조금만 기다려주세요!\\n\\n[훈련비] Q18. 등록금(훈련비)은 정말 무료인가요?\\n\\nA18. 내일배움카드 발급이 가능하다면 100% 무료로 입학이 가능합니다. 단, 잔액이 1원이라도 있어야 하니 꼭 확인해주세요!'),\n",
       " Document(id='5d91b849-b866-4298-ab5b-067b4df72dd2', metadata={'source': './files/Practice_document.pdf'}, page_content='Q12. 학습량이 많은가요?\\n\\nA12. 학습량이 적다고 말씀드리기는 어렵습니다. 비전공자부터 전공자까지 모두 배움의 정도에 차이가 있고 상당한 수준까지 학습이 진행되기에 개인 공부가 거의 필수로 작용할 수 있습니다. 다만, 이러한 과정을 지나고나면 매우 성장해있는 본인의 모습을 보실 수 있으실겁니다. 화이팅!\\n\\n[훈련 환경] Q13. 교육 중 카메라를 꼭 켜야하나요?'),\n",
       " Document(id='28b0b667-3508-4560-8179-f0e5a0fe74bf', metadata={'source': './files/Practice_document.pdf'}, page_content='[학습 장소] Q8. 과정은 모두 온라인으로만 진행 되나요?\\n\\nA8. 아이펠 교육과정은 100% 실시간 온라인 과정으로 화상 플랫폼(ZEP)에서 진행됩니다. 희망하시는 경우, 오프라인 학습 공간(모두의연구소 강남/역삼캠퍼스)을 무료로 제공 해드리고 있습니다. 공간 사용방법은 입학 후 별도로 안내드리겠습니다.\\n\\n[학습 방식] Q9. 혼자서 동영상 강의를 듣는 건가요?')]"
      ]
     },
     "execution_count": 26,
     "metadata": {},
     "output_type": "execute_result"
    }
   ],
   "source": [
    "retriever.invoke(\"수강료는 얼마인가요?\")"
   ]
  },
  {
   "cell_type": "code",
   "execution_count": 49,
   "metadata": {},
   "outputs": [],
   "source": [
    "chain = {\"context\":retriever | RunnableLambda(lambda docs:'\\n\\n'.join(x.page_content for x in docs)),\n",
    "         \"query\":RunnablePassthrough()}| prompt | llm"
   ]
  },
  {
   "cell_type": "code",
   "execution_count": 50,
   "metadata": {},
   "outputs": [
    {
     "ename": "ValueError",
     "evalue": "variable context should be a list of base messages, got 모두의연구소 역삼 캠퍼스 (서울 강남구 역삼로 156 태광빌딩 2층, 4층) https://naver.me/GMvc9Hv5\n\nFAQ\n\n[지원 요건] Q1. 재직중(또는 재학중)인데 지원할 수 있는지 궁금해요!\n\nA1. 아이펠 교육과정은 약 6개월 동안 월-금, 10:00-18:00 풀타임으로 운영되고 있어 직장 또는 학교와 병행이 어렵습니다. 내일배움카드 발급이 가능한 구직자 및 대학교 졸업 예정자를 주요 대상자로 모집, 선발하고 있으니 참여 가능 사항을 꼭 확인해주세요!\n\n2\n\nQ17. 서류를 제출 했어요. 결과는 언제 알 수 있나요?\n\nA17. 제출하신 지원서는 검토 후 2-3일 이내에 결과를 안내하고 있습니다. ‘지원서 합격 → 온라인 인터뷰 → 최종 선발ʼ의 절차로 진행되고 있어 최종 합격 및 등록까지 일정 기간 소요될 수 있으니 조금만 기다려주세요!\n\n[훈련비] Q18. 등록금(훈련비)은 정말 무료인가요?\n\nA18. 내일배움카드 발급이 가능하다면 100% 무료로 입학이 가능합니다. 단, 잔액이 1원이라도 있어야 하니 꼭 확인해주세요!\n\nQ12. 학습량이 많은가요?\n\nA12. 학습량이 적다고 말씀드리기는 어렵습니다. 비전공자부터 전공자까지 모두 배움의 정도에 차이가 있고 상당한 수준까지 학습이 진행되기에 개인 공부가 거의 필수로 작용할 수 있습니다. 다만, 이러한 과정을 지나고나면 매우 성장해있는 본인의 모습을 보실 수 있으실겁니다. 화이팅!\n\n[훈련 환경] Q13. 교육 중 카메라를 꼭 켜야하나요?\n\n[학습 장소] Q8. 과정은 모두 온라인으로만 진행 되나요?\n\nA8. 아이펠 교육과정은 100% 실시간 온라인 과정으로 화상 플랫폼(ZEP)에서 진행됩니다. 희망하시는 경우, 오프라인 학습 공간(모두의연구소 강남/역삼캠퍼스)을 무료로 제공 해드리고 있습니다. 공간 사용방법은 입학 후 별도로 안내드리겠습니다.\n\n[학습 방식] Q9. 혼자서 동영상 강의를 듣는 건가요? of type <class 'str'>",
     "output_type": "error",
     "traceback": [
      "\u001b[1;31m---------------------------------------------------------------------------\u001b[0m",
      "\u001b[1;31mValueError\u001b[0m                                Traceback (most recent call last)",
      "Cell \u001b[1;32mIn[50], line 1\u001b[0m\n\u001b[1;32m----> 1\u001b[0m result \u001b[38;5;241m=\u001b[39m \u001b[43mchain\u001b[49m\u001b[38;5;241;43m.\u001b[39;49m\u001b[43minvoke\u001b[49m\u001b[43m(\u001b[49m\u001b[38;5;124;43m\"\u001b[39;49m\u001b[38;5;124;43m수강료는 얼마인가요?\u001b[39;49m\u001b[38;5;124;43m\"\u001b[39;49m\u001b[43m)\u001b[49m\n",
      "File \u001b[1;32mc:\\Users\\Admin\\anaconda3\\envs\\Modulabs\\lib\\site-packages\\langchain_core\\runnables\\base.py:3029\u001b[0m, in \u001b[0;36mRunnableSequence.invoke\u001b[1;34m(self, input, config, **kwargs)\u001b[0m\n\u001b[0;32m   3027\u001b[0m             \u001b[38;5;28minput\u001b[39m \u001b[38;5;241m=\u001b[39m context\u001b[38;5;241m.\u001b[39mrun(step\u001b[38;5;241m.\u001b[39minvoke, \u001b[38;5;28minput\u001b[39m, config, \u001b[38;5;241m*\u001b[39m\u001b[38;5;241m*\u001b[39mkwargs)\n\u001b[0;32m   3028\u001b[0m         \u001b[38;5;28;01melse\u001b[39;00m:\n\u001b[1;32m-> 3029\u001b[0m             \u001b[38;5;28minput\u001b[39m \u001b[38;5;241m=\u001b[39m \u001b[43mcontext\u001b[49m\u001b[38;5;241;43m.\u001b[39;49m\u001b[43mrun\u001b[49m\u001b[43m(\u001b[49m\u001b[43mstep\u001b[49m\u001b[38;5;241;43m.\u001b[39;49m\u001b[43minvoke\u001b[49m\u001b[43m,\u001b[49m\u001b[43m \u001b[49m\u001b[38;5;28;43minput\u001b[39;49m\u001b[43m,\u001b[49m\u001b[43m \u001b[49m\u001b[43mconfig\u001b[49m\u001b[43m)\u001b[49m\n\u001b[0;32m   3030\u001b[0m \u001b[38;5;66;03m# finish the root run\u001b[39;00m\n\u001b[0;32m   3031\u001b[0m \u001b[38;5;28;01mexcept\u001b[39;00m \u001b[38;5;167;01mBaseException\u001b[39;00m \u001b[38;5;28;01mas\u001b[39;00m e:\n",
      "File \u001b[1;32mc:\\Users\\Admin\\anaconda3\\envs\\Modulabs\\lib\\site-packages\\langchain_core\\prompts\\base.py:210\u001b[0m, in \u001b[0;36mBasePromptTemplate.invoke\u001b[1;34m(self, input, config, **kwargs)\u001b[0m\n\u001b[0;32m    208\u001b[0m \u001b[38;5;28;01mif\u001b[39;00m \u001b[38;5;28mself\u001b[39m\u001b[38;5;241m.\u001b[39mtags:\n\u001b[0;32m    209\u001b[0m     config[\u001b[38;5;124m\"\u001b[39m\u001b[38;5;124mtags\u001b[39m\u001b[38;5;124m\"\u001b[39m] \u001b[38;5;241m=\u001b[39m config[\u001b[38;5;124m\"\u001b[39m\u001b[38;5;124mtags\u001b[39m\u001b[38;5;124m\"\u001b[39m] \u001b[38;5;241m+\u001b[39m \u001b[38;5;28mself\u001b[39m\u001b[38;5;241m.\u001b[39mtags\n\u001b[1;32m--> 210\u001b[0m \u001b[38;5;28;01mreturn\u001b[39;00m \u001b[38;5;28;43mself\u001b[39;49m\u001b[38;5;241;43m.\u001b[39;49m\u001b[43m_call_with_config\u001b[49m\u001b[43m(\u001b[49m\n\u001b[0;32m    211\u001b[0m \u001b[43m    \u001b[49m\u001b[38;5;28;43mself\u001b[39;49m\u001b[38;5;241;43m.\u001b[39;49m\u001b[43m_format_prompt_with_error_handling\u001b[49m\u001b[43m,\u001b[49m\n\u001b[0;32m    212\u001b[0m \u001b[43m    \u001b[49m\u001b[38;5;28;43minput\u001b[39;49m\u001b[43m,\u001b[49m\n\u001b[0;32m    213\u001b[0m \u001b[43m    \u001b[49m\u001b[43mconfig\u001b[49m\u001b[43m,\u001b[49m\n\u001b[0;32m    214\u001b[0m \u001b[43m    \u001b[49m\u001b[43mrun_type\u001b[49m\u001b[38;5;241;43m=\u001b[39;49m\u001b[38;5;124;43m\"\u001b[39;49m\u001b[38;5;124;43mprompt\u001b[39;49m\u001b[38;5;124;43m\"\u001b[39;49m\u001b[43m,\u001b[49m\n\u001b[0;32m    215\u001b[0m \u001b[43m    \u001b[49m\u001b[43mserialized\u001b[49m\u001b[38;5;241;43m=\u001b[39;49m\u001b[38;5;28;43mself\u001b[39;49m\u001b[38;5;241;43m.\u001b[39;49m\u001b[43m_serialized\u001b[49m\u001b[43m,\u001b[49m\n\u001b[0;32m    216\u001b[0m \u001b[43m\u001b[49m\u001b[43m)\u001b[49m\n",
      "File \u001b[1;32mc:\\Users\\Admin\\anaconda3\\envs\\Modulabs\\lib\\site-packages\\langchain_core\\runnables\\base.py:1927\u001b[0m, in \u001b[0;36mRunnable._call_with_config\u001b[1;34m(self, func, input, config, run_type, serialized, **kwargs)\u001b[0m\n\u001b[0;32m   1923\u001b[0m     context \u001b[38;5;241m=\u001b[39m copy_context()\n\u001b[0;32m   1924\u001b[0m     context\u001b[38;5;241m.\u001b[39mrun(_set_config_context, child_config)\n\u001b[0;32m   1925\u001b[0m     output \u001b[38;5;241m=\u001b[39m cast(\n\u001b[0;32m   1926\u001b[0m         Output,\n\u001b[1;32m-> 1927\u001b[0m         context\u001b[38;5;241m.\u001b[39mrun(\n\u001b[0;32m   1928\u001b[0m             call_func_with_variable_args,  \u001b[38;5;66;03m# type: ignore[arg-type]\u001b[39;00m\n\u001b[0;32m   1929\u001b[0m             func,  \u001b[38;5;66;03m# type: ignore[arg-type]\u001b[39;00m\n\u001b[0;32m   1930\u001b[0m             \u001b[38;5;28minput\u001b[39m,  \u001b[38;5;66;03m# type: ignore[arg-type]\u001b[39;00m\n\u001b[0;32m   1931\u001b[0m             config,\n\u001b[0;32m   1932\u001b[0m             run_manager,\n\u001b[0;32m   1933\u001b[0m             \u001b[38;5;241m*\u001b[39m\u001b[38;5;241m*\u001b[39mkwargs,\n\u001b[0;32m   1934\u001b[0m         ),\n\u001b[0;32m   1935\u001b[0m     )\n\u001b[0;32m   1936\u001b[0m \u001b[38;5;28;01mexcept\u001b[39;00m \u001b[38;5;167;01mBaseException\u001b[39;00m \u001b[38;5;28;01mas\u001b[39;00m e:\n\u001b[0;32m   1937\u001b[0m     run_manager\u001b[38;5;241m.\u001b[39mon_chain_error(e)\n",
      "File \u001b[1;32mc:\\Users\\Admin\\anaconda3\\envs\\Modulabs\\lib\\site-packages\\langchain_core\\runnables\\config.py:396\u001b[0m, in \u001b[0;36mcall_func_with_variable_args\u001b[1;34m(func, input, config, run_manager, **kwargs)\u001b[0m\n\u001b[0;32m    394\u001b[0m \u001b[38;5;28;01mif\u001b[39;00m run_manager \u001b[38;5;129;01mis\u001b[39;00m \u001b[38;5;129;01mnot\u001b[39;00m \u001b[38;5;28;01mNone\u001b[39;00m \u001b[38;5;129;01mand\u001b[39;00m accepts_run_manager(func):\n\u001b[0;32m    395\u001b[0m     kwargs[\u001b[38;5;124m\"\u001b[39m\u001b[38;5;124mrun_manager\u001b[39m\u001b[38;5;124m\"\u001b[39m] \u001b[38;5;241m=\u001b[39m run_manager\n\u001b[1;32m--> 396\u001b[0m \u001b[38;5;28;01mreturn\u001b[39;00m func(\u001b[38;5;28minput\u001b[39m, \u001b[38;5;241m*\u001b[39m\u001b[38;5;241m*\u001b[39mkwargs)\n",
      "File \u001b[1;32mc:\\Users\\Admin\\anaconda3\\envs\\Modulabs\\lib\\site-packages\\langchain_core\\prompts\\base.py:185\u001b[0m, in \u001b[0;36mBasePromptTemplate._format_prompt_with_error_handling\u001b[1;34m(self, inner_input)\u001b[0m\n\u001b[0;32m    183\u001b[0m \u001b[38;5;28;01mdef\u001b[39;00m \u001b[38;5;21m_format_prompt_with_error_handling\u001b[39m(\u001b[38;5;28mself\u001b[39m, inner_input: \u001b[38;5;28mdict\u001b[39m) \u001b[38;5;241m-\u001b[39m\u001b[38;5;241m>\u001b[39m PromptValue:\n\u001b[0;32m    184\u001b[0m     _inner_input \u001b[38;5;241m=\u001b[39m \u001b[38;5;28mself\u001b[39m\u001b[38;5;241m.\u001b[39m_validate_input(inner_input)\n\u001b[1;32m--> 185\u001b[0m     \u001b[38;5;28;01mreturn\u001b[39;00m \u001b[38;5;28mself\u001b[39m\u001b[38;5;241m.\u001b[39mformat_prompt(\u001b[38;5;241m*\u001b[39m\u001b[38;5;241m*\u001b[39m_inner_input)\n",
      "File \u001b[1;32mc:\\Users\\Admin\\anaconda3\\envs\\Modulabs\\lib\\site-packages\\langchain_core\\prompts\\chat.py:785\u001b[0m, in \u001b[0;36mBaseChatPromptTemplate.format_prompt\u001b[1;34m(self, **kwargs)\u001b[0m\n\u001b[0;32m    776\u001b[0m \u001b[38;5;28;01mdef\u001b[39;00m \u001b[38;5;21mformat_prompt\u001b[39m(\u001b[38;5;28mself\u001b[39m, \u001b[38;5;241m*\u001b[39m\u001b[38;5;241m*\u001b[39mkwargs: Any) \u001b[38;5;241m-\u001b[39m\u001b[38;5;241m>\u001b[39m PromptValue:\n\u001b[0;32m    777\u001b[0m \u001b[38;5;250m    \u001b[39m\u001b[38;5;124;03m\"\"\"Format prompt. Should return a PromptValue.\u001b[39;00m\n\u001b[0;32m    778\u001b[0m \n\u001b[0;32m    779\u001b[0m \u001b[38;5;124;03m    Args:\u001b[39;00m\n\u001b[1;32m   (...)\u001b[0m\n\u001b[0;32m    783\u001b[0m \u001b[38;5;124;03m        PromptValue.\u001b[39;00m\n\u001b[0;32m    784\u001b[0m \u001b[38;5;124;03m    \"\"\"\u001b[39;00m\n\u001b[1;32m--> 785\u001b[0m     messages \u001b[38;5;241m=\u001b[39m \u001b[38;5;28mself\u001b[39m\u001b[38;5;241m.\u001b[39mformat_messages(\u001b[38;5;241m*\u001b[39m\u001b[38;5;241m*\u001b[39mkwargs)\n\u001b[0;32m    786\u001b[0m     \u001b[38;5;28;01mreturn\u001b[39;00m ChatPromptValue(messages\u001b[38;5;241m=\u001b[39mmessages)\n",
      "File \u001b[1;32mc:\\Users\\Admin\\anaconda3\\envs\\Modulabs\\lib\\site-packages\\langchain_core\\prompts\\chat.py:1227\u001b[0m, in \u001b[0;36mChatPromptTemplate.format_messages\u001b[1;34m(self, **kwargs)\u001b[0m\n\u001b[0;32m   1223\u001b[0m     result\u001b[38;5;241m.\u001b[39mextend([message_template])\n\u001b[0;32m   1224\u001b[0m \u001b[38;5;28;01melif\u001b[39;00m \u001b[38;5;28misinstance\u001b[39m(\n\u001b[0;32m   1225\u001b[0m     message_template, (BaseMessagePromptTemplate, BaseChatPromptTemplate)\n\u001b[0;32m   1226\u001b[0m ):\n\u001b[1;32m-> 1227\u001b[0m     message \u001b[38;5;241m=\u001b[39m message_template\u001b[38;5;241m.\u001b[39mformat_messages(\u001b[38;5;241m*\u001b[39m\u001b[38;5;241m*\u001b[39mkwargs)\n\u001b[0;32m   1228\u001b[0m     result\u001b[38;5;241m.\u001b[39mextend(message)\n\u001b[0;32m   1229\u001b[0m \u001b[38;5;28;01melse\u001b[39;00m:\n",
      "File \u001b[1;32mc:\\Users\\Admin\\anaconda3\\envs\\Modulabs\\lib\\site-packages\\langchain_core\\prompts\\chat.py:250\u001b[0m, in \u001b[0;36mMessagesPlaceholder.format_messages\u001b[1;34m(self, **kwargs)\u001b[0m\n\u001b[0;32m    245\u001b[0m \u001b[38;5;28;01mif\u001b[39;00m \u001b[38;5;129;01mnot\u001b[39;00m \u001b[38;5;28misinstance\u001b[39m(value, \u001b[38;5;28mlist\u001b[39m):\n\u001b[0;32m    246\u001b[0m     msg \u001b[38;5;241m=\u001b[39m (\n\u001b[0;32m    247\u001b[0m         \u001b[38;5;124mf\u001b[39m\u001b[38;5;124m\"\u001b[39m\u001b[38;5;124mvariable \u001b[39m\u001b[38;5;132;01m{\u001b[39;00m\u001b[38;5;28mself\u001b[39m\u001b[38;5;241m.\u001b[39mvariable_name\u001b[38;5;132;01m}\u001b[39;00m\u001b[38;5;124m should be a list of base messages, \u001b[39m\u001b[38;5;124m\"\u001b[39m\n\u001b[0;32m    248\u001b[0m         \u001b[38;5;124mf\u001b[39m\u001b[38;5;124m\"\u001b[39m\u001b[38;5;124mgot \u001b[39m\u001b[38;5;132;01m{\u001b[39;00mvalue\u001b[38;5;132;01m}\u001b[39;00m\u001b[38;5;124m of type \u001b[39m\u001b[38;5;132;01m{\u001b[39;00m\u001b[38;5;28mtype\u001b[39m(value)\u001b[38;5;132;01m}\u001b[39;00m\u001b[38;5;124m\"\u001b[39m\n\u001b[0;32m    249\u001b[0m     )\n\u001b[1;32m--> 250\u001b[0m     \u001b[38;5;28;01mraise\u001b[39;00m \u001b[38;5;167;01mValueError\u001b[39;00m(msg)  \u001b[38;5;66;03m# noqa: TRY004\u001b[39;00m\n\u001b[0;32m    251\u001b[0m value \u001b[38;5;241m=\u001b[39m convert_to_messages(value)\n\u001b[0;32m    252\u001b[0m \u001b[38;5;28;01mif\u001b[39;00m \u001b[38;5;28mself\u001b[39m\u001b[38;5;241m.\u001b[39mn_messages:\n",
      "\u001b[1;31mValueError\u001b[0m: variable context should be a list of base messages, got 모두의연구소 역삼 캠퍼스 (서울 강남구 역삼로 156 태광빌딩 2층, 4층) https://naver.me/GMvc9Hv5\n\nFAQ\n\n[지원 요건] Q1. 재직중(또는 재학중)인데 지원할 수 있는지 궁금해요!\n\nA1. 아이펠 교육과정은 약 6개월 동안 월-금, 10:00-18:00 풀타임으로 운영되고 있어 직장 또는 학교와 병행이 어렵습니다. 내일배움카드 발급이 가능한 구직자 및 대학교 졸업 예정자를 주요 대상자로 모집, 선발하고 있으니 참여 가능 사항을 꼭 확인해주세요!\n\n2\n\nQ17. 서류를 제출 했어요. 결과는 언제 알 수 있나요?\n\nA17. 제출하신 지원서는 검토 후 2-3일 이내에 결과를 안내하고 있습니다. ‘지원서 합격 → 온라인 인터뷰 → 최종 선발ʼ의 절차로 진행되고 있어 최종 합격 및 등록까지 일정 기간 소요될 수 있으니 조금만 기다려주세요!\n\n[훈련비] Q18. 등록금(훈련비)은 정말 무료인가요?\n\nA18. 내일배움카드 발급이 가능하다면 100% 무료로 입학이 가능합니다. 단, 잔액이 1원이라도 있어야 하니 꼭 확인해주세요!\n\nQ12. 학습량이 많은가요?\n\nA12. 학습량이 적다고 말씀드리기는 어렵습니다. 비전공자부터 전공자까지 모두 배움의 정도에 차이가 있고 상당한 수준까지 학습이 진행되기에 개인 공부가 거의 필수로 작용할 수 있습니다. 다만, 이러한 과정을 지나고나면 매우 성장해있는 본인의 모습을 보실 수 있으실겁니다. 화이팅!\n\n[훈련 환경] Q13. 교육 중 카메라를 꼭 켜야하나요?\n\n[학습 장소] Q8. 과정은 모두 온라인으로만 진행 되나요?\n\nA8. 아이펠 교육과정은 100% 실시간 온라인 과정으로 화상 플랫폼(ZEP)에서 진행됩니다. 희망하시는 경우, 오프라인 학습 공간(모두의연구소 강남/역삼캠퍼스)을 무료로 제공 해드리고 있습니다. 공간 사용방법은 입학 후 별도로 안내드리겠습니다.\n\n[학습 방식] Q9. 혼자서 동영상 강의를 듣는 건가요? of type <class 'str'>"
     ]
    }
   ],
   "source": [
    "result = chain.invoke(\"수강료는 얼마인가요?\")"
   ]
  },
  {
   "cell_type": "code",
   "execution_count": 18,
   "metadata": {},
   "outputs": [
    {
     "data": {
      "text/plain": [
       "AIMessage(content='내일배움카드 발급이 가능하다면 100% 무료로 입학이 가능합니다. 단, 잔액이 1원이라도 있어야 하니 꼭 확인해주세요! 더 궁금한 점이 있으시면 언제든지 문의해 주세요.', additional_kwargs={'refusal': None}, response_metadata={'token_usage': {'completion_tokens': 57, 'prompt_tokens': 775, 'total_tokens': 832, 'completion_tokens_details': {'accepted_prediction_tokens': 0, 'audio_tokens': 0, 'reasoning_tokens': 0, 'rejected_prediction_tokens': 0}, 'prompt_tokens_details': {'audio_tokens': 0, 'cached_tokens': 0}}, 'model_name': 'gpt-4o-mini-2024-07-18', 'system_fingerprint': 'fp_06737a9306', 'finish_reason': 'stop', 'logprobs': None}, id='run-e4916fb9-3d2f-46b5-b954-681226b08222-0', usage_metadata={'input_tokens': 775, 'output_tokens': 57, 'total_tokens': 832, 'input_token_details': {'audio': 0, 'cache_read': 0}, 'output_token_details': {'audio': 0, 'reasoning': 0}})"
      ]
     },
     "execution_count": 18,
     "metadata": {},
     "output_type": "execute_result"
    }
   ],
   "source": [
    "result"
   ]
  }
 ],
 "metadata": {
  "kernelspec": {
   "display_name": "Modulabs",
   "language": "python",
   "name": "python3"
  },
  "language_info": {
   "codemirror_mode": {
    "name": "ipython",
    "version": 3
   },
   "file_extension": ".py",
   "mimetype": "text/x-python",
   "name": "python",
   "nbconvert_exporter": "python",
   "pygments_lexer": "ipython3",
   "version": "3.10.12"
  }
 },
 "nbformat": 4,
 "nbformat_minor": 2
}
