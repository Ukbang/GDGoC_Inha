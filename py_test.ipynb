{
 "cells": [
  {
   "cell_type": "code",
   "execution_count": null,
   "metadata": {},
   "outputs": [],
   "source": [
    "import sys\n",
    "\n",
    "sys.path.append('./app')"
   ]
  },
  {
   "cell_type": "code",
   "execution_count": 4,
   "metadata": {},
   "outputs": [],
   "source": [
    "from document_loader import create_retriever"
   ]
  },
  {
   "cell_type": "code",
   "execution_count": 5,
   "metadata": {},
   "outputs": [],
   "source": [
    "from langchain.document_loaders import PyPDFLoader"
   ]
  },
  {
   "cell_type": "code",
   "execution_count": 6,
   "metadata": {},
   "outputs": [],
   "source": [
    "loader = PyPDFLoader(\"./files/Practice_document.pdf\")"
   ]
  },
  {
   "cell_type": "code",
   "execution_count": 8,
   "metadata": {},
   "outputs": [
    {
     "data": {
      "text/plain": [
       "True"
      ]
     },
     "execution_count": 8,
     "metadata": {},
     "output_type": "execute_result"
    }
   ],
   "source": [
    "import dotenv\n",
    "\n",
    "dotenv.load_dotenv()"
   ]
  },
  {
   "cell_type": "code",
   "execution_count": 9,
   "metadata": {},
   "outputs": [],
   "source": [
    "retriever = create_retriever(loader)"
   ]
  },
  {
   "cell_type": "code",
   "execution_count": 10,
   "metadata": {},
   "outputs": [],
   "source": [
    "docs = retriever.invoke(\"데이터 사이언티스트 3기는 언제 개강하나요?\")"
   ]
  },
  {
   "cell_type": "code",
   "execution_count": 30,
   "metadata": {},
   "outputs": [
    {
     "name": "stdout",
     "output_type": "stream",
     "text": [
      "제목:  아이펠 데이터사이언티스트 3기 지원 및 과정 안내\n",
      "요약:  아이펠 데이터사이언티스트 3기 지원자들은 서류 제출 후 2-3일 이내에 결과를 안내받으며, 최종 합격 후 등록까지 일정 기간이 소요된다. 등록금은 내일배움카드 발급 시 100% 무료이며, 졸업 후 취업 지원 프로그램도 제공된다. 데이터 사이언티스트의 필수 역량으로는 AI 모델링, 수학 및 통계, 논리적 실험 능력 등이 있으며, 주요 업무는 데이터 추출 및 정제, 통계 분석, 머신러닝 모델 구축 등이다.\n",
      "\n",
      "\n",
      "\n",
      "제목:  아이펠 데이터사이언티스트 3기 교육 프로그램 안내\n",
      "요약:  아이펠 데이터사이언티스트 3기 과정은 고용노동부 주관의 K-Digital Training의 일환으로, 실무 기반의 데이터 분석 및 인공지능 교육을 제공합니다. 모집 기간은 2024년 8월 21일부터 9월 24일까지이며, 교육은 2024년 9월 25일부터 2025년 3월 21일까지 6개월간 진행됩니다. 교육은 100% 온라인으로 이루어지며, 주중에만 운영됩니다. 지원자는 재직 중이거나 재학 중인 경우 참여가 어려우며, 내일배움카드 발급이 가능한 구직자 및 졸업 예정자를 주요 대상으로 모집합니다.\n",
      "\n",
      "\n",
      "\n",
      "제목:  아이펠 데이터사이언티스트 3기 교육 과정 안내\n",
      "요약:  아이펠 데이터사이언티스트 3기 과정은 실시간 온라인으로 진행되며, 파이썬 언어에 대한 기본 지식이 필요하다. 교육 신청 시 나이 제한은 없지만, 성실한 참여와 학습 의지가 중요하다. 과정에서는 SQL, 머신러닝, 딥러닝 등 다양한 주제를 배우고, 졸업 후 데이터 분석가나 연구원으로 취업할 수 있다. 교육 중 카메라와 마이크 사용이 필수이며, 개인 PC 사양은 저사양으로는 어려울 수 있다. 입학 전 '프리 아이펠' 프로그램을 통해 사전 학습이 가능하다.\n",
      "\n",
      "\n",
      "\n"
     ]
    }
   ],
   "source": [
    "for doc in docs:\n",
    "    print(\"제목: \", doc.metadata[\"title\"])\n",
    "    print(\"요약: \", doc.metadata[\"summary\"])\n",
    "    print(\"\\n\\n\")"
   ]
  },
  {
   "cell_type": "code",
   "execution_count": 14,
   "metadata": {},
   "outputs": [
    {
     "name": "stdout",
     "output_type": "stream",
     "text": [
      "제목:  아이펠 데이터사이언티스트 3기 지원 및 과정 안내\n",
      "요약:  아이펠 데이터사이언티스트 3기 지원자들은 서류 제출 후 2-3일 이내에 결과를 안내받으며, 최종 합격 후 등록까지 일정 기간이 소요된다. 등록금은 내일배움카드 발급 시 100% 무료이며, 졸업 후 취업 지원 프로그램도 제공된다. 데이터 사이언티스트의 필수 역량으로는 AI 모델링, 수학 및 통계, 논리적 실험 능력 등이 있으며, 주요 업무는 데이터 추출 및 정제, 통계 분석, 머신러닝 모델 구축 등이다.\n",
      "\n",
      "\n",
      "\n",
      "제목:  아이펠 데이터사이언티스트 3기 교육 프로그램 안내\n",
      "요약:  아이펠 데이터사이언티스트 3기 과정은 고용노동부 주관의 K-Digital Training의 일환으로, 실무 기반의 데이터 분석 및 인공지능 교육을 제공합니다. 모집 기간은 2024년 8월 21일부터 9월 24일까지이며, 교육은 2024년 9월 25일부터 2025년 3월 21일까지 6개월간 진행됩니다. 교육은 100% 온라인으로 이루어지며, 주중에만 운영됩니다. 지원자는 재직 중이거나 재학 중인 경우 참여가 어려우며, 내일배움카드 발급이 가능한 구직자 및 졸업 예정자를 주요 대상으로 모집합니다.\n",
      "\n",
      "\n",
      "\n",
      "제목:  아이펠 데이터사이언티스트 3기 교육 과정 안내\n",
      "요약:  아이펠 데이터사이언티스트 3기 과정은 실시간 온라인으로 진행되며, 파이썬 언어에 대한 기본 지식이 필요하다. 교육 신청 시 나이 제한은 없지만, 성실한 참여와 학습 의지가 중요하다. 과정에서는 SQL, 머신러닝, 딥러닝 등 다양한 주제를 배우고, 졸업 후 데이터 분석가나 연구원으로 취업할 수 있다. 교육 중 카메라와 마이크 사용이 필수이며, 개인 PC 사양은 저사양으로는 어려울 수 있다. 입학 전 '프리 아이펠' 프로그램을 통해 사전 학습이 가능하다.\n",
      "\n",
      "\n",
      "\n"
     ]
    }
   ],
   "source": [
    "for doc in docs:\n",
    "    print(\"제목: \", doc.metadata[\"title\"])\n",
    "    print(\"요약: \", doc.metadata[\"summary\"])\n",
    "    print(\"\\n\\n\")"
   ]
  },
  {
   "cell_type": "code",
   "execution_count": 19,
   "metadata": {},
   "outputs": [],
   "source": [
    "vector_store = retriever.vectorstore"
   ]
  },
  {
   "cell_type": "code",
   "execution_count": 21,
   "metadata": {},
   "outputs": [],
   "source": [
    "vector_store.save_local(\"./index/faiss_index\")"
   ]
  },
  {
   "cell_type": "code",
   "execution_count": null,
   "metadata": {},
   "outputs": [],
   "source": [
    "from langchain_community.vectorstores import FAISS\n",
    "from langchain_openai import ChatOpenAI, OpenAIEmbeddings\n",
    "\n",
    "vs = FAISS.load_local(\"./index/faiss_index\", \n",
    "                      embeddings=OpenAIEmbeddings(),\n",
    "                      allow_dangerous_deserialization=True)"
   ]
  },
  {
   "cell_type": "code",
   "execution_count": 27,
   "metadata": {},
   "outputs": [],
   "source": [
    "vs_r = vs.as_retriever()"
   ]
  },
  {
   "cell_type": "code",
   "execution_count": 28,
   "metadata": {},
   "outputs": [],
   "source": [
    "vs_docs = vs_r.invoke(\"데이터 사이언티스트 3기는 언제 개강하나요?\")"
   ]
  },
  {
   "cell_type": "code",
   "execution_count": 29,
   "metadata": {},
   "outputs": [
    {
     "name": "stdout",
     "output_type": "stream",
     "text": [
      "제목:  아이펠 데이터사이언티스트 3기 지원 및 과정 안내\n",
      "요약:  아이펠 데이터사이언티스트 3기 지원자들은 서류 제출 후 2-3일 이내에 결과를 안내받으며, 최종 합격 후 등록까지 일정 기간이 소요된다. 등록금은 내일배움카드 발급 시 100% 무료이며, 졸업 후 취업 지원 프로그램도 제공된다. 데이터 사이언티스트의 필수 역량으로는 AI 모델링, 수학 및 통계, 논리적 실험 능력 등이 있으며, 주요 업무는 데이터 추출 및 정제, 통계 분석, 머신러닝 모델 구축 등이다.\n",
      "\n",
      "\n",
      "\n",
      "제목:  아이펠 데이터사이언티스트 3기 교육 프로그램 안내\n",
      "요약:  아이펠 데이터사이언티스트 3기 과정은 고용노동부 주관의 K-Digital Training의 일환으로, 실무 기반의 데이터 분석 및 인공지능 교육을 제공합니다. 모집 기간은 2024년 8월 21일부터 9월 24일까지이며, 교육은 2024년 9월 25일부터 2025년 3월 21일까지 6개월간 진행됩니다. 교육은 100% 온라인으로 이루어지며, 주중에만 운영됩니다. 지원자는 재직 중이거나 재학 중인 경우 참여가 어려우며, 내일배움카드 발급이 가능한 구직자 및 졸업 예정자를 주요 대상으로 모집합니다.\n",
      "\n",
      "\n",
      "\n",
      "제목:  아이펠 데이터사이언티스트 3기 교육 과정 안내\n",
      "요약:  아이펠 데이터사이언티스트 3기 과정은 실시간 온라인으로 진행되며, 파이썬 언어에 대한 기본 지식이 필요하다. 교육 신청 시 나이 제한은 없지만, 성실한 참여와 학습 의지가 중요하다. 과정에서는 SQL, 머신러닝, 딥러닝 등 다양한 주제를 배우고, 졸업 후 데이터 분석가나 연구원으로 취업할 수 있다. 교육 중 카메라와 마이크 사용이 필수이며, 개인 PC 사양은 저사양으로는 어려울 수 있다. 입학 전 '프리 아이펠' 프로그램을 통해 사전 학습이 가능하다.\n",
      "\n",
      "\n",
      "\n"
     ]
    }
   ],
   "source": [
    "for vs_doc in vs_docs:\n",
    "    print(\"제목: \", vs_doc.metadata[\"title\"])\n",
    "    print(\"요약: \", vs_doc.metadata[\"summary\"])\n",
    "    print(\"\\n\\n\")"
   ]
  },
  {
   "cell_type": "code",
   "execution_count": 32,
   "metadata": {},
   "outputs": [],
   "source": [
    "from relevance_checker import relevance_docs"
   ]
  },
  {
   "cell_type": "code",
   "execution_count": 49,
   "metadata": {},
   "outputs": [],
   "source": [
    "context = \"\"\"프로덕트 데이터 분석가 과정은 2024년 12월 27일에 개강합니다.\n",
    "             학습 기간은 6개월이며, 2025년 6월 27일에 종료됩니다.\n",
    "             SQL, 파이썬, 판다스 데이터분석, 머신러닝, 마케팅, 프로덕트, 태블로 등의 과목을 배우게 됩니다.\n",
    "          \"\"\"\n",
    "\n",
    "question = \"대한민국 대통령 이름은 무엇인가요?\""
   ]
  },
  {
   "cell_type": "code",
   "execution_count": 50,
   "metadata": {},
   "outputs": [],
   "source": [
    "binary_score = relevance_docs(context, question)"
   ]
  },
  {
   "cell_type": "code",
   "execution_count": 51,
   "metadata": {},
   "outputs": [
    {
     "data": {
      "text/plain": [
       "'no'"
      ]
     },
     "execution_count": 51,
     "metadata": {},
     "output_type": "execute_result"
    }
   ],
   "source": [
    "binary_score"
   ]
  },
  {
   "cell_type": "code",
   "execution_count": null,
   "metadata": {},
   "outputs": [],
   "source": []
  }
 ],
 "metadata": {
  "kernelspec": {
   "display_name": "Modulabs",
   "language": "python",
   "name": "python3"
  },
  "language_info": {
   "codemirror_mode": {
    "name": "ipython",
    "version": 3
   },
   "file_extension": ".py",
   "mimetype": "text/x-python",
   "name": "python",
   "nbconvert_exporter": "python",
   "pygments_lexer": "ipython3",
   "version": "3.10.12"
  }
 },
 "nbformat": 4,
 "nbformat_minor": 2
}
