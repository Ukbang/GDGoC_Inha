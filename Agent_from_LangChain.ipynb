{
 "cells": [
  {
   "cell_type": "code",
   "execution_count": 1,
   "metadata": {},
   "outputs": [],
   "source": [
    "import os\n",
    "from typing import Optional, TypedDict, Annotated\n",
    "from langchain_core.documents.base import Document\n",
    "from langchain_openai import ChatOpenAI, OpenAIEmbeddings\n",
    "from langchain.prompts import ChatPromptTemplate, MessagesPlaceholder\n",
    "from langchain_community.document_loaders import PyPDFLoader\n",
    "from langchain_unstructured import UnstructuredLoader\n",
    "from langchain.text_splitter import RecursiveCharacterTextSplitter\n",
    "from langchain_core.vectorstores.base import VectorStoreRetriever\n",
    "from langchain_community.vectorstores import FAISS\n",
    "from langchain.schema.runnable import RunnablePassthrough, RunnableLambda\n",
    "from langchain_experimental.utilities import PythonREPL\n",
    "from langchain.tools.retriever import create_retriever_tool\n",
    "from langchain.tools import tool\n",
    "import warnings\n",
    "import dotenv\n",
    "\n",
    "warnings.filterwarnings(\"ignore\", )"
   ]
  },
  {
   "cell_type": "code",
   "execution_count": 2,
   "metadata": {},
   "outputs": [],
   "source": [
    "# .env파일 읽기\n",
    "dotenv.load_dotenv()\n",
    "\n",
    "# os라이브러리 이용한 읽기\n",
    "# os.environ['OPENAI_API_KEY'] = \"API-Key\"\n",
    "os.environ[\"OMP_NUM_THREADS\"] = \"1\"\n",
    "os.environ[\"KMP_DUPLICATE_LIB_OK\"] = \"TRUE\""
   ]
  },
  {
   "cell_type": "code",
   "execution_count": 3,
   "metadata": {},
   "outputs": [],
   "source": [
    "# LLM Load\n",
    "\n",
    "llm = ChatOpenAI(model=\"gpt-4o-mini\", \n",
    "                 temperature=0.)"
   ]
  },
  {
   "cell_type": "code",
   "execution_count": 4,
   "metadata": {},
   "outputs": [
    {
     "data": {
      "text/plain": [
       "AIMessage(content='1 + 1은 2입니다.', additional_kwargs={'refusal': None}, response_metadata={'token_usage': {'completion_tokens': 10, 'prompt_tokens': 12, 'total_tokens': 22, 'completion_tokens_details': {'accepted_prediction_tokens': 0, 'audio_tokens': 0, 'reasoning_tokens': 0, 'rejected_prediction_tokens': 0}, 'prompt_tokens_details': {'audio_tokens': 0, 'cached_tokens': 0}}, 'model_name': 'gpt-4o-mini-2024-07-18', 'system_fingerprint': 'fp_06737a9306', 'finish_reason': 'stop', 'logprobs': None}, id='run-61c0fdf6-981c-40d4-bcf6-955611621e7a-0', usage_metadata={'input_tokens': 12, 'output_tokens': 10, 'total_tokens': 22, 'input_token_details': {'audio': 0, 'cache_read': 0}, 'output_token_details': {'audio': 0, 'reasoning': 0}})"
      ]
     },
     "execution_count": 4,
     "metadata": {},
     "output_type": "execute_result"
    }
   ],
   "source": [
    "llm.invoke(\"1+1은?\")"
   ]
  },
  {
   "cell_type": "code",
   "execution_count": 5,
   "metadata": {},
   "outputs": [],
   "source": [
    "prompt = ChatPromptTemplate.from_messages([\n",
    "    # MessagesPlaceholder(variable_name=\"context\"),\n",
    "    (\"system\", \n",
    "    \"\"\"\n",
    "\n",
    "    context : {context}\n",
    "    \n",
    "    당신은 언제나 고객에게 최선을 다해 답변을 하며 말투는 굉장히 친근합니다. 직업은 전문 상담원입니다. 답변 시, 아래의 규칙을 지켜야만 합니다.\n",
    "    규칙 1. 주어진 context만을 이용하여 답변해야합니다. \n",
    "    규칙 2. 주어진 context에서 답변을 할 수 없다면 \"해당 문의는 010-2255-3366으로 연락주시면 도와드리겠습니다. 영업 시간은 오전 10시-오후 6시입니다.\" 라고 대답하세요.\n",
    "    규칙 3. 문자열에 A1, A2, A11, A22 등 필요 없는 문자는 제거한 뒤 출력합니다.\n",
    "    규칙 4. 항상 친절한 말투로 응대합니다.\n",
    "    규칙 5. 웹사이트 링크를 그대로 출력합니다. 대소문자를 명확하게 구분하세요.\n",
    "    \"\"\"),\n",
    "    (\"human\", \"{query}\")\n",
    "])"
   ]
  },
  {
   "cell_type": "code",
   "execution_count": 6,
   "metadata": {},
   "outputs": [],
   "source": [
    "# Document Embedding\n",
    "\n",
    "def embedding_file(file=\"Practice_document.pdf\"):\n",
    "    print(\"Embedding 시작\")\n",
    "    Embeddings = OpenAIEmbeddings()\n",
    "    print(\"Embedding 완료!\\n파일 로딩중\")\n",
    "    loader = UnstructuredLoader(file_path=f\"./files/{file}\")\n",
    "    print(\"파일 로딩 완료!\\n텍스트 스플리터 생성\")\n",
    "    text_splitter = RecursiveCharacterTextSplitter(chunk_size=300, chunk_overlap=50)\n",
    "    split_docs = loader.load_and_split(text_splitter)\n",
    "    print(\"문서 분할 완료\")\n",
    "    vector_store = FAISS.from_documents(split_docs, Embeddings)\n",
    "    print(\"벡터 저장소 생성 완료\")\n",
    "\n",
    "    retriever = vector_store.as_retriever()\n",
    "    print(\"벡터 리트리버 생성 완료\")\n",
    "\n",
    "    return retriever"
   ]
  },
  {
   "cell_type": "code",
   "execution_count": 7,
   "metadata": {},
   "outputs": [
    {
     "name": "stdout",
     "output_type": "stream",
     "text": [
      "Embedding 시작\n",
      "Embedding 완료!\n",
      "파일 로딩중\n",
      "파일 로딩 완료!\n",
      "텍스트 스플리터 생성\n"
     ]
    },
    {
     "name": "stderr",
     "output_type": "stream",
     "text": [
      "INFO: pikepdf C++ to Python logger bridge initialized\n"
     ]
    },
    {
     "name": "stdout",
     "output_type": "stream",
     "text": [
      "문서 분할 완료\n"
     ]
    },
    {
     "name": "stderr",
     "output_type": "stream",
     "text": [
      "INFO: HTTP Request: POST https://api.openai.com/v1/embeddings \"HTTP/1.1 200 OK\"\n",
      "INFO: Loading faiss with AVX2 support.\n",
      "INFO: Successfully loaded faiss with AVX2 support.\n",
      "INFO: Failed to load GPU Faiss: name 'GpuIndexIVFFlat' is not defined. Will not load constructor refs for GPU indexes.\n"
     ]
    },
    {
     "name": "stdout",
     "output_type": "stream",
     "text": [
      "벡터 저장소 생성 완료\n",
      "벡터 리트리버 생성 완료\n"
     ]
    }
   ],
   "source": [
    "retriever = embedding_file()"
   ]
  },
  {
   "cell_type": "code",
   "execution_count": 8,
   "metadata": {},
   "outputs": [
    {
     "name": "stderr",
     "output_type": "stream",
     "text": [
      "INFO: HTTP Request: POST https://api.openai.com/v1/embeddings \"HTTP/1.1 200 OK\"\n"
     ]
    }
   ],
   "source": [
    "docs = retriever.invoke(\"개강하는 날짜가 언제야?\")"
   ]
  },
  {
   "cell_type": "code",
   "execution_count": 9,
   "metadata": {},
   "outputs": [
    {
     "data": {
      "text/plain": [
       "[Document(id='d3bdee7e-08ff-4bfd-8a98-3275f53314c2', metadata={'source': './files/Practice_document.pdf', 'coordinates': {'points': ((71.999997, 456.5999809749999), (71.999997, 471.4945116343945), (118.70339260602509, 471.4945116343945), (118.70339260602509, 456.5999809749999)), 'system': 'PixelSpace', 'layout_width': 842.88, 'layout_height': 1191.12}, 'file_directory': './files', 'filename': 'Practice_document.pdf', 'languages': ['eng'], 'last_modified': '2025-03-10T18:14:18', 'page_number': 1, 'filetype': 'application/pdf', 'category': 'Title', 'element_id': '9b95bc223f875c62c26b62f788238a61'}, page_content='모집 기간'),\n",
       " Document(id='0bcd6208-25a7-4d1f-b9e2-6cf5795b2273', metadata={'source': './files/Practice_document.pdf', 'coordinates': {'points': ((89.26874628046875, 478.19998007499987), (89.26874628046875, 490.11560460251553), (321.37798963324985, 490.11560460251553), (321.37798963324985, 478.19998007499987)), 'system': 'PixelSpace', 'layout_width': 842.88, 'layout_height': 1191.12}, 'file_directory': './files', 'filename': 'Practice_document.pdf', 'languages': ['eng'], 'last_modified': '2025-03-10T18:14:18', 'page_number': 1, 'parent_id': '9b95bc223f875c62c26b62f788238a61', 'filetype': 'application/pdf', 'category': 'ListItem', 'element_id': '70535184a88b541542a50b0024ae51f8'}, page_content='2024. 08. 21 - 2024. 09. 24, 약 1달간 모집 예정입니다.'),\n",
       " Document(id='a8450d97-0218-4fc2-a029-e7bef08e14a3', metadata={'source': './files/Practice_document.pdf', 'coordinates': {'points': ((71.999997, 1078.7999550499999), (71.999997, 1090.7155795775157), (274.2005390869771, 1090.7155795775157), (274.2005390869771, 1078.7999550499999)), 'system': 'PixelSpace', 'layout_width': 842.88, 'layout_height': 1191.12}, 'file_directory': './files', 'filename': 'Practice_document.pdf', 'languages': ['eng'], 'last_modified': '2025-03-10T18:14:18', 'page_number': 1, 'parent_id': 'eef612f9ed8ac5a1885149b963f9f652', 'filetype': 'application/pdf', 'category': 'UncategorizedText', 'element_id': '681e4dada6c82493ad9ce8f05791f638'}, page_content='Q4. 내일배움카드는 언제까지 발급 되어야 하나요?'),\n",
       " Document(id='35103b95-c8de-4f83-b07a-3f766630c6ea', metadata={'source': './files/Practice_document.pdf', 'coordinates': {'points': ((71.999997, 73.19999695000024), (71.999997, 85.11562147751602), (278.4935209081028, 85.11562147751602), (278.4935209081028, 73.19999695000024)), 'system': 'PixelSpace', 'layout_width': 842.88, 'layout_height': 1191.12}, 'file_directory': './files', 'filename': 'Practice_document.pdf', 'languages': ['eng'], 'last_modified': '2025-03-10T18:14:18', 'page_number': 3, 'filetype': 'application/pdf', 'category': 'Header', 'element_id': 'e105ba8ab76806cdbe443a507bc9089f'}, page_content='Q17. 서류를 제출 했어요. 결과는 언제 알 수 있나요?')]"
      ]
     },
     "execution_count": 9,
     "metadata": {},
     "output_type": "execute_result"
    }
   ],
   "source": [
    "docs"
   ]
  }
 ],
 "metadata": {
  "kernelspec": {
   "display_name": "Agent",
   "language": "python",
   "name": "python3"
  },
  "language_info": {
   "codemirror_mode": {
    "name": "ipython",
    "version": 3
   },
   "file_extension": ".py",
   "mimetype": "text/x-python",
   "name": "python",
   "nbconvert_exporter": "python",
   "pygments_lexer": "ipython3",
   "version": "3.10.12"
  }
 },
 "nbformat": 4,
 "nbformat_minor": 2
}
