{
 "cells": [
  {
   "cell_type": "code",
   "execution_count": 1,
   "metadata": {},
   "outputs": [],
   "source": [
    "import os\n",
    "from typing import Optional, TypedDict, Annotated\n",
    "from langchain_core.documents.base import Document\n",
    "from langchain_openai import ChatOpenAI, OpenAIEmbeddings\n",
    "from langchain.prompts import ChatPromptTemplate, MessagesPlaceholder\n",
    "from langchain_community.document_loaders import PyPDFLoader, UnstructuredFileLoader\n",
    "# from langchain_unstructured import UnstructuredLoader\n",
    "from langchain.text_splitter import RecursiveCharacterTextSplitter\n",
    "from langchain_core.vectorstores.base import VectorStoreRetriever\n",
    "from langchain_community.vectorstores import FAISS\n",
    "from langchain.schema.runnable import RunnablePassthrough, RunnableLambda\n",
    "from langchain_experimental.utilities import PythonREPL\n",
    "from langchain.tools.retriever import create_retriever_tool\n",
    "from langchain.tools import tool\n",
    "import warnings\n",
    "import dotenv\n",
    "\n",
    "warnings.filterwarnings(\"ignore\")"
   ]
  },
  {
   "cell_type": "code",
   "execution_count": 2,
   "metadata": {},
   "outputs": [
    {
     "data": {
      "text/plain": [
       "True"
      ]
     },
     "execution_count": 2,
     "metadata": {},
     "output_type": "execute_result"
    }
   ],
   "source": [
    "# .env파일 읽기\n",
    "dotenv.load_dotenv()\n",
    "\n",
    "# os라이브러리 이용한 읽기\n",
    "# os.environ['OPENAI_API_KEY'] = \"API-Key\"\n",
    "# os.environ[\"OMP_NUM_THREADS\"] = \"1\"\n",
    "# os.environ[\"KMP_DUPLICATE_LIB_OK\"] = \"TRUE\""
   ]
  },
  {
   "cell_type": "code",
   "execution_count": 3,
   "metadata": {},
   "outputs": [],
   "source": [
    "# LLM Load\n",
    "\n",
    "llm = ChatOpenAI(model=\"gpt-4o-mini\", \n",
    "                 temperature=0.)"
   ]
  },
  {
   "cell_type": "code",
   "execution_count": 4,
   "metadata": {},
   "outputs": [
    {
     "data": {
      "text/plain": [
       "AIMessage(content='1 + 3은 4입니다.', additional_kwargs={'refusal': None}, response_metadata={'token_usage': {'completion_tokens': 10, 'prompt_tokens': 12, 'total_tokens': 22, 'completion_tokens_details': {'accepted_prediction_tokens': 0, 'audio_tokens': 0, 'reasoning_tokens': 0, 'rejected_prediction_tokens': 0}, 'prompt_tokens_details': {'audio_tokens': 0, 'cached_tokens': 0}}, 'model_name': 'gpt-4o-mini-2024-07-18', 'system_fingerprint': 'fp_06737a9306', 'finish_reason': 'stop', 'logprobs': None}, id='run-d8fde57a-68b4-4d07-8eea-7ff864a325c1-0', usage_metadata={'input_tokens': 12, 'output_tokens': 10, 'total_tokens': 22, 'input_token_details': {'audio': 0, 'cache_read': 0}, 'output_token_details': {'audio': 0, 'reasoning': 0}})"
      ]
     },
     "execution_count": 4,
     "metadata": {},
     "output_type": "execute_result"
    }
   ],
   "source": [
    "llm.invoke(\"1+3은?\")"
   ]
  },
  {
   "cell_type": "code",
   "execution_count": 5,
   "metadata": {},
   "outputs": [],
   "source": [
    "prompt = ChatPromptTemplate.from_messages([\n",
    "    # MessagesPlaceholder(variable_name=\"context\"),\n",
    "    (\"system\", \n",
    "    \"\"\"\n",
    "\n",
    "    context : {context}\n",
    "    \n",
    "    당신은 언제나 고객에게 최선을 다해 답변을 하며 말투는 굉장히 친근합니다. 직업은 전문 상담원입니다. 답변 시, 아래의 규칙을 지켜야만 합니다.\n",
    "    규칙 1. 주어진 context만을 이용하여 답변해야합니다. \n",
    "    규칙 2. 주어진 context에서 답변을 할 수 없다면 \"해당 문의는 010-2255-3366으로 연락주시면 도와드리겠습니다. 영업 시간은 오전 10시-오후 6시입니다.\" 라고 대답하세요.\n",
    "    규칙 3. 문자열에 A1, A2, A11, A22 등 필요 없는 문자는 제거한 뒤 출력합니다.\n",
    "    규칙 4. 항상 친절한 말투로 응대합니다.\n",
    "    규칙 5. 웹사이트 링크를 그대로 출력합니다. 대소문자를 명확하게 구분하세요.\n",
    "    \"\"\"),\n",
    "    (\"human\", \"{query}\")\n",
    "])"
   ]
  },
  {
   "cell_type": "code",
   "execution_count": 6,
   "metadata": {},
   "outputs": [],
   "source": [
    "# Document Embedding\n",
    "\n",
    "def embedding_file(file=\"Practice_document.pdf\"):\n",
    "    print(\"Embedding 시작\")\n",
    "    Embeddings = OpenAIEmbeddings()\n",
    "    print(\"Embedding 완료!\\n파일 로딩중\")\n",
    "    loader = UnstructuredFileLoader(file_path=f\"./files/{file}\")\n",
    "    print(\"파일 로딩 완료!\\n텍스트 스플리터 생성\")\n",
    "    text_splitter = RecursiveCharacterTextSplitter(chunk_size=300, chunk_overlap=50, separators=[\"\\n\\n\"])\n",
    "    split_docs = loader.load_and_split(text_splitter)\n",
    "    print(\"문서 분할 완료\")\n",
    "    vector_store = FAISS.from_documents(split_docs, Embeddings)\n",
    "    print(\"벡터 저장소 생성 완료\")\n",
    "\n",
    "    retriever = vector_store.as_retriever()\n",
    "    print(\"벡터 리트리버 생성 완료\")\n",
    "\n",
    "    return retriever"
   ]
  },
  {
   "cell_type": "code",
   "execution_count": null,
   "metadata": {},
   "outputs": [],
   "source": [
    "Embeddings = OpenAIEmbeddings()"
   ]
  },
  {
   "cell_type": "code",
   "execution_count": null,
   "metadata": {},
   "outputs": [],
   "source": [
    "loader = UnstructuredFileLoader(file_path=f\"./files/{file}\")"
   ]
  },
  {
   "cell_type": "code",
   "execution_count": null,
   "metadata": {},
   "outputs": [],
   "source": [
    "text_splitter = RecursiveCharacterTextSplitter(chunk_size=300, chunk_overlap=50, separators=[\"\\n\\n\"])"
   ]
  },
  {
   "cell_type": "code",
   "execution_count": null,
   "metadata": {},
   "outputs": [],
   "source": [
    "split_docs = loader.load_and_split(text_splitter)"
   ]
  },
  {
   "cell_type": "code",
   "execution_count": null,
   "metadata": {},
   "outputs": [],
   "source": [
    "vector_store = FAISS.from_documents(split_docs, Embeddings)"
   ]
  },
  {
   "cell_type": "code",
   "execution_count": null,
   "metadata": {},
   "outputs": [],
   "source": [
    "retriever = vector_store.as_retriever()"
   ]
  },
  {
   "cell_type": "code",
   "execution_count": 7,
   "metadata": {},
   "outputs": [
    {
     "name": "stdout",
     "output_type": "stream",
     "text": [
      "Embedding 시작\n",
      "Embedding 완료!\n",
      "파일 로딩중\n",
      "파일 로딩 완료!\n",
      "텍스트 스플리터 생성\n"
     ]
    },
    {
     "name": "stderr",
     "output_type": "stream",
     "text": [
      "[nltk_data] Downloading package punkt to\n",
      "[nltk_data]     C:\\Users\\Admin\\AppData\\Roaming\\nltk_data...\n",
      "[nltk_data]   Unzipping tokenizers\\punkt.zip.\n",
      "[nltk_data] Downloading package averaged_perceptron_tagger to\n",
      "[nltk_data]     C:\\Users\\Admin\\AppData\\Roaming\\nltk_data...\n",
      "[nltk_data]   Unzipping taggers\\averaged_perceptron_tagger.zip.\n"
     ]
    },
    {
     "name": "stdout",
     "output_type": "stream",
     "text": [
      "문서 분할 완료\n",
      "벡터 저장소 생성 완료\n",
      "벡터 리트리버 생성 완료\n"
     ]
    }
   ],
   "source": [
    "retriever = embedding_file()"
   ]
  },
  {
   "cell_type": "code",
   "execution_count": 8,
   "metadata": {},
   "outputs": [],
   "source": [
    "docs = retriever.invoke(\"개강하는 날짜가 언제야?\")"
   ]
  },
  {
   "cell_type": "code",
   "execution_count": 9,
   "metadata": {},
   "outputs": [
    {
     "data": {
      "text/plain": [
       "[Document(id='0e9fded8-e503-43b7-bc18-52d91ceae30d', metadata={'source': './files/Practice_document.pdf'}, page_content='교육 기간\\n\\n2024. 09. 25 - 25. 03. 21, 약 6개월이며 120일 과정입니다.\\n\\n교육 시간\\n\\n평일 10:00 - 18:00, 주말은 운영하지 않습니다.\\n\\n교육 환경\\n\\n100% 실시간 온라인 과정 (타 KDT훈련 및 직장 병행 불가)\\n\\n홈페이지\\n\\n모두의연구소 홈페이지 (modulabs.co.kr)\\n\\n아이펠 데이터사이언티스트 홈페이지 (ds.aiffel.io)\\n\\n주소\\n\\n모두의연구소 강남 캠퍼스 (서울 강남구 강남대로 324 역삼디오슈페리움 2층 모두의연구소) https://naver.me/FslREXGR'),\n",
       " Document(id='26b58c64-711c-45fa-89cd-b23e765cc858', metadata={'source': './files/Practice_document.pdf'}, page_content='아이펠 데이터사이언티스트 3기\\n\\n1\\n\\nA4. 내일배움카드 실수령 후 다음 날 훈련생 등록이 가능하여 개강일 전일(평일 기준)까지 발급이 가능해야 합니다. 가능한 아이펠 서류제출과 함께 바로 내일배움카드 신청을 해 주시는 게 가장 안전합니다! 부득이 하게 발급이 늦어지는 경우, 교육 시작 후 4일 까지 실수령 하여야 최종 등록 후 수강이 가능이 가능하니 미리 발급받고 편하게 입학 준비하세 요! (*개강일 이후 등록이 진행 되는 경우, 결석 또는 지각 처리 될 수 있습니다.)\\n\\nQ5. 지원하는데 나이 제한이 있나요?'),\n",
       " Document(id='99867b0b-9991-4af3-a8fe-2c8643bd5446', metadata={'source': './files/Practice_document.pdf'}, page_content='Q16. 졸업 프로젝트로는 어떤 걸 할 수 있나요?\\n\\nA16. 데이터 기반 투자 전략과 머신러닝 투자 모델 구축, 맞춤형 게임 추천 시스템 제작, 온체인 데이터 분석을 통한 데이터 기반 의사 결정 지원 등 여러가지 프로젝트가 진행되었 습니다.\\n\\n[선발 절차]\\n\\n아이펠 데이터사이언티스트 3기\\n\\n2\\n\\nQ17. 서류를 제출 했어요. 결과는 언제 알 수 있나요?'),\n",
       " Document(id='ba7fb29d-9db7-4331-b524-431736f7184e', metadata={'source': './files/Practice_document.pdf'}, page_content='데이터 사이언티스트 과정은 실무 기반의 과정으로 데이터 분석, 머신러닝 및 딥러닝 모델 제작까지 담당하며 이를 통해 비즈니스 인사이트를 도출하는 방법 등을 배우게 됩니다.\\n\\n개요\\n\\n모두의연구소 데이터 사이언티스트 전문 과정\\n\\n실무 기반 프로젝트로 학습하고 현직자 세미나로 이론과 실무를, 현업 멘토와 포트폴리오 완성까지!\\n\\n교육명\\n\\n모두의연구소 아이펠 데이터사이언티스트 3기\\n\\n모집 기간\\n\\n2024. 08. 21 - 2024. 09. 24, 약 1달간 모집 예정입니다.\\n\\n교육 기간')]"
      ]
     },
     "execution_count": 9,
     "metadata": {},
     "output_type": "execute_result"
    }
   ],
   "source": [
    "docs"
   ]
  },
  {
   "cell_type": "code",
   "execution_count": null,
   "metadata": {},
   "outputs": [],
   "source": [
    "def format_docs(docs):\n",
    "    return \"\\n\\n\".join(doc.page)"
   ]
  },
  {
   "cell_type": "code",
   "execution_count": 14,
   "metadata": {},
   "outputs": [],
   "source": [
    "chain = {\"context\":retriever | RunnableLambda(lambda docs:'\\n\\n'.join(x.page_content for x in docs)),\\\n",
    "         \"query\":RunnablePassthrough()}| prompt | llm"
   ]
  },
  {
   "cell_type": "code",
   "execution_count": 17,
   "metadata": {},
   "outputs": [],
   "source": [
    "result = chain.invoke(\"수강료는 얼마인가요?\")"
   ]
  },
  {
   "cell_type": "code",
   "execution_count": 18,
   "metadata": {},
   "outputs": [
    {
     "data": {
      "text/plain": [
       "AIMessage(content='내일배움카드 발급이 가능하다면 100% 무료로 입학이 가능합니다. 단, 잔액이 1원이라도 있어야 하니 꼭 확인해주세요! 더 궁금한 점이 있으시면 언제든지 문의해 주세요.', additional_kwargs={'refusal': None}, response_metadata={'token_usage': {'completion_tokens': 57, 'prompt_tokens': 775, 'total_tokens': 832, 'completion_tokens_details': {'accepted_prediction_tokens': 0, 'audio_tokens': 0, 'reasoning_tokens': 0, 'rejected_prediction_tokens': 0}, 'prompt_tokens_details': {'audio_tokens': 0, 'cached_tokens': 0}}, 'model_name': 'gpt-4o-mini-2024-07-18', 'system_fingerprint': 'fp_06737a9306', 'finish_reason': 'stop', 'logprobs': None}, id='run-e4916fb9-3d2f-46b5-b954-681226b08222-0', usage_metadata={'input_tokens': 775, 'output_tokens': 57, 'total_tokens': 832, 'input_token_details': {'audio': 0, 'cache_read': 0}, 'output_token_details': {'audio': 0, 'reasoning': 0}})"
      ]
     },
     "execution_count": 18,
     "metadata": {},
     "output_type": "execute_result"
    }
   ],
   "source": [
    "result"
   ]
  }
 ],
 "metadata": {
  "kernelspec": {
   "display_name": "Modulabs",
   "language": "python",
   "name": "python3"
  },
  "language_info": {
   "codemirror_mode": {
    "name": "ipython",
    "version": 3
   },
   "file_extension": ".py",
   "mimetype": "text/x-python",
   "name": "python",
   "nbconvert_exporter": "python",
   "pygments_lexer": "ipython3",
   "version": "3.10.12"
  }
 },
 "nbformat": 4,
 "nbformat_minor": 2
}
