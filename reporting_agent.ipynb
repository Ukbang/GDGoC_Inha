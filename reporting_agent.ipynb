{
 "cells": [
  {
   "cell_type": "code",
   "execution_count": 1,
   "metadata": {},
   "outputs": [
    {
     "data": {
      "text/plain": [
       "True"
      ]
     },
     "execution_count": 1,
     "metadata": {},
     "output_type": "execute_result"
    }
   ],
   "source": [
    "import dotenv\n",
    "\n",
    "dotenv.load_dotenv()"
   ]
  },
  {
   "cell_type": "code",
   "execution_count": 2,
   "metadata": {},
   "outputs": [],
   "source": [
    "from langchain_community.tools.tavily_search import TavilySearchResults\n",
    "\n",
    "# TavilySearchResults 클래스의 인스턴스를 생성합니다\n",
    "# k=6은 검색 결과를 6개까지 가져오겠다는 의미입니다\n",
    "search = TavilySearchResults(k=6)"
   ]
  },
  {
   "cell_type": "code",
   "execution_count": 3,
   "metadata": {},
   "outputs": [],
   "source": [
    "from langchain.text_splitter import RecursiveCharacterTextSplitter\n",
    "from langchain_community.vectorstores import FAISS\n",
    "from langchain_openai import OpenAIEmbeddings\n",
    "from langchain.document_loaders import PyMuPDFLoader, PyPDFLoader\n",
    "\n",
    "# PDF 파일 로드. 파일의 경로 입력\n",
    "loader = PyPDFLoader(\"files/Practice_document.pdf\")\n",
    "\n",
    "# 텍스트 분할기를 사용하여 문서를 분할합니다.\n",
    "text_splitter = RecursiveCharacterTextSplitter(chunk_size=300, chunk_overlap=50, separators=[\"\\n\\n\"])\n",
    "\n",
    "# 문서를 로드하고 분할합니다.\n",
    "split_docs = loader.load_and_split(text_splitter)\n",
    "\n",
    "# VectorStore를 생성합니다.\n",
    "vector = FAISS.from_documents(split_docs, OpenAIEmbeddings())\n",
    "\n",
    "# Retriever를 생성합니다.\n",
    "retriever = vector.as_retriever()"
   ]
  },
  {
   "cell_type": "code",
   "execution_count": 4,
   "metadata": {},
   "outputs": [],
   "source": [
    "from langchain.tools.retriever import create_retriever_tool\n",
    "from langchain_core.prompts import PromptTemplate\n",
    "\n",
    "# 문서의 내용을 표시하는 템플릿을 정의합니다.\n",
    "document_prompt = PromptTemplate.from_template(\n",
    "    \"<document><content>{page_content}</content><page>{page}</page><filename>{source}</filename></document>\"\n",
    ")\n",
    "\n",
    "# retriever 를 도구로 정의합니다.\n",
    "retriever_tool = create_retriever_tool(\n",
    "    retriever,\n",
    "    name=\"pdf_search\",\n",
    "    description=\"use this tool to search for information in the PDF file\",\n",
    "    document_prompt=document_prompt,\n",
    ")"
   ]
  },
  {
   "cell_type": "code",
   "execution_count": 5,
   "metadata": {},
   "outputs": [],
   "source": [
    "from langchain_community.utilities.dalle_image_generator import DallEAPIWrapper\n",
    "from langchain.tools import tool\n",
    "\n",
    "# DallE API Wrapper를 생성합니다.\n",
    "dalle = DallEAPIWrapper(model=\"dall-e-3\", size=\"1024x1024\", quality=\"standard\", n=1)\n",
    "\n",
    "\n",
    "# DallE API Wrapper를 도구로 정의합니다.\n",
    "@tool\n",
    "def dalle_tool(query):\n",
    "    \"\"\"use this tool to generate image from text\"\"\"\n",
    "    return dalle.run(query)"
   ]
  },
  {
   "cell_type": "code",
   "execution_count": 6,
   "metadata": {},
   "outputs": [
    {
     "data": {
      "text/plain": [
       "[WriteFileTool(root_dir='test'),\n",
       " ReadFileTool(root_dir='test'),\n",
       " ListDirectoryTool(root_dir='test')]"
      ]
     },
     "execution_count": 6,
     "metadata": {},
     "output_type": "execute_result"
    }
   ],
   "source": [
    "from langchain_community.agent_toolkits import FileManagementToolkit\n",
    "\n",
    "# 작업 디렉토리 경로 설정\n",
    "working_directory = \"test\"\n",
    "\n",
    "# 파일 관리 도구 생성(파일 쓰기, 읽기, 디렉토리 목록 조회)\n",
    "file_tools = FileManagementToolkit(\n",
    "    root_dir=working_directory,\n",
    "    selected_tools=[\"write_file\", \"read_file\", \"list_directory\"],\n",
    ").get_tools()\n",
    "\n",
    "# 생성된 파일 관리 도구 출력\n",
    "file_tools"
   ]
  },
  {
   "cell_type": "code",
   "execution_count": 7,
   "metadata": {},
   "outputs": [
    {
     "data": {
      "text/plain": [
       "[WriteFileTool(root_dir='test'),\n",
       " ReadFileTool(root_dir='test'),\n",
       " ListDirectoryTool(root_dir='test'),\n",
       " Tool(name='pdf_search', description='use this tool to search for information in the PDF file', args_schema=<class 'langchain_core.tools.retriever.RetrieverInput'>, func=functools.partial(<function _get_relevant_documents at 0x0000015E96D03250>, retriever=VectorStoreRetriever(tags=['FAISS', 'OpenAIEmbeddings'], vectorstore=<langchain_community.vectorstores.faiss.FAISS object at 0x0000015EBBAC5C00>, search_kwargs={}), document_prompt=PromptTemplate(input_variables=['page', 'page_content', 'source'], input_types={}, partial_variables={}, template='<document><content>{page_content}</content><page>{page}</page><filename>{source}</filename></document>'), document_separator='\\n\\n', response_format='content'), coroutine=functools.partial(<function _aget_relevant_documents at 0x0000015E97068CA0>, retriever=VectorStoreRetriever(tags=['FAISS', 'OpenAIEmbeddings'], vectorstore=<langchain_community.vectorstores.faiss.FAISS object at 0x0000015EBBAC5C00>, search_kwargs={}), document_prompt=PromptTemplate(input_variables=['page', 'page_content', 'source'], input_types={}, partial_variables={}, template='<document><content>{page_content}</content><page>{page}</page><filename>{source}</filename></document>'), document_separator='\\n\\n', response_format='content')),\n",
       " TavilySearchResults(api_wrapper=TavilySearchAPIWrapper(tavily_api_key=SecretStr('**********'))),\n",
       " StructuredTool(name='dalle_tool', description='use this tool to generate image from text', args_schema=<class 'langchain_core.utils.pydantic.dalle_tool'>, func=<function dalle_tool at 0x0000015EBBA03E20>)]"
      ]
     },
     "execution_count": 7,
     "metadata": {},
     "output_type": "execute_result"
    }
   ],
   "source": [
    "tools = file_tools + [\n",
    "    retriever_tool,\n",
    "    search,\n",
    "    dalle_tool,\n",
    "]\n",
    "\n",
    "# 최종 도구 목록 출력\n",
    "tools"
   ]
  },
  {
   "cell_type": "code",
   "execution_count": 8,
   "metadata": {},
   "outputs": [],
   "source": [
    "from langchain_core.prompts import ChatPromptTemplate\n",
    "from langchain_core.runnables.history import RunnableWithMessageHistory\n",
    "from langchain.agents import create_tool_calling_agent, AgentExecutor\n",
    "from langchain_community.chat_message_histories import ChatMessageHistory\n",
    "from langchain_openai import ChatOpenAI\n",
    "\n",
    "# session_id 를 저장할 딕셔너리 생성\n",
    "store = {}\n",
    "\n",
    "# 프롬프트 생성\n",
    "# 프롬프트는 에이전트에게 모델이 수행할 작업을 설명하는 텍스트를 제공합니다. (도구의 이름과 역할을 입력)\n",
    "prompt = ChatPromptTemplate.from_messages(\n",
    "    [\n",
    "        (\n",
    "            \"system\",\n",
    "            \"너는 강력한 어시스턴트야\"\n",
    "            \"매우 전문적인 리서처이기도 해해\"\n",
    "            \"You can use the pdf_search tool to search for information in the PDF file. \"\n",
    "            \"You can find further information by using search tool. \"\n",
    "            \"You can use image generation tool to generate image from text. \"\n",
    "            \"Finally, you can use file management tool to save your research result into files.\",\n",
    "        ),\n",
    "        (\"placeholder\", \"{chat_history}\"),\n",
    "        (\"human\", \"{query}\"),\n",
    "        (\"placeholder\", \"{agent_scratchpad}\"),\n",
    "    ]\n",
    ")\n"
   ]
  },
  {
   "cell_type": "code",
   "execution_count": 9,
   "metadata": {},
   "outputs": [],
   "source": [
    "# LLM 생성\n",
    "llm = ChatOpenAI(model=\"gpt-4o-mini\", temperature=0.,)\n",
    "\n",
    "# Agent 생성\n",
    "agent = create_tool_calling_agent(llm, tools, prompt)\n",
    "\n",
    "# AgentExecutor 생성\n",
    "agent_executor = AgentExecutor(\n",
    "    agent=agent,\n",
    "    tools=tools,\n",
    "    verbose=False,\n",
    "    handle_parsing_errors=True,\n",
    ")"
   ]
  },
  {
   "cell_type": "code",
   "execution_count": 10,
   "metadata": {},
   "outputs": [],
   "source": [
    "# session_id 를 기반으로 세션 기록을 가져오는 함수\n",
    "def get_session_history(session_ids):\n",
    "    if session_ids not in store:  # session_id 가 store에 없는 경우\n",
    "        # 새로운 ChatMessageHistory 객체를 생성하여 store에 저장\n",
    "        store[session_ids] = ChatMessageHistory()\n",
    "    return store[session_ids]  # 해당 세션 ID에 대한 세션 기록 반환"
   ]
  },
  {
   "cell_type": "code",
   "execution_count": 11,
   "metadata": {},
   "outputs": [],
   "source": [
    "# 채팅 메시지 기록이 추가된 에이전트를 생성합니다.\n",
    "agent_with_chat_history = RunnableWithMessageHistory(\n",
    "    agent_executor,\n",
    "    # 대화 session_id\n",
    "    get_session_history,\n",
    "    # 프롬프트의 질문이 입력되는 key: \"input\"\n",
    "    input_messages_key=\"query\",\n",
    "    # 프롬프트의 메시지가 입력되는 key: \"chat_history\"\n",
    "    history_messages_key=\"chat_history\",\n",
    ")"
   ]
  },
  {
   "cell_type": "code",
   "execution_count": 28,
   "metadata": {},
   "outputs": [],
   "source": [
    "result = agent_with_chat_history.stream(\n",
    "    {\n",
    "        \"query\": \"아이펠에 대한 전반적인 내용을 정리해서 알려주세요.\"\n",
    "        \"한글로 작성해주세요.\"\n",
    "        \"다음으로는 `report.md` 파일을 새롭게 생성하여 정리한 내용을 저장해주세요. \\n\\n\"\n",
    "        \"#작성방법: \\n\"\n",
    "        \"1. markdown header 2 크기로 적절한 제목을 작성하세요. \\n\"\n",
    "        \"2. 발췌한 PDF 문서의 페이지 번호, 파일명을 기입하세요(예시: page 10, filename.pdf). \\n\"\n",
    "        \"3. 정리된 bullet point를 작성하세요. \\n\"\n",
    "        \"4. 작성이 완료되면 파일을 `report.md` 에 저장하세요. \\n\"\n",
    "        \"5. 마지막으로 저장한 `report.md` 파일을 읽어서 출력해 주세요. \\n\"\n",
    "    },\n",
    "    config={\"configurable\": {\"session_id\": \"ab1\"}},\n",
    ")\n"
   ]
  },
  {
   "cell_type": "code",
   "execution_count": null,
   "metadata": {},
   "outputs": [],
   "source": [
    "# url 에러로 이미지 생성에 어려움을 겪음.\n",
    "result2 = agent_with_chat_history.invoke(\n",
    "    {\n",
    "        \"query\": \"로고를 만들어주세요. 우리는 혁신적이며 스피드를 강조하는 회사입니다. 이름은 `방모주`입니다.\"\n",
    "        \"#작성방법: \\n\"\n",
    "        \"1. query에 맞는 이미지를 생성합니다. \\n\"\n",
    "        \"2. 생성한 이미지는 '생성일시_로고의특징을 2글자로 표현.png'로 저장합니다. \\n\"        \n",
    "        \"3. 이미지의 url이 깨지지 않도록 주의하세요.\"\n",
    "    },\n",
    "    config={\"configurable\": {\"session_id\": \"c1\"}},\n",
    ")\n"
   ]
  },
  {
   "cell_type": "code",
   "execution_count": null,
   "metadata": {},
   "outputs": [
    {
     "name": "stdout",
     "output_type": "stream",
     "text": [
      "{'actions': [ToolAgentAction(tool='tavily_search_results_json', tool_input={'query': '아이펠'}, log=\"\\nInvoking: `tavily_search_results_json` with `{'query': '아이펠'}`\\n\\n\\n\", message_log=[AIMessageChunk(content='', additional_kwargs={'tool_calls': [{'index': 0, 'id': 'call_H9md3TMX3qt7rTslBjXtxJBD', 'function': {'arguments': '{\"query\":\"아이펠\"}', 'name': 'tavily_search_results_json'}, 'type': 'function'}]}, response_metadata={'finish_reason': 'tool_calls', 'model_name': 'gpt-4o-mini-2024-07-18', 'system_fingerprint': 'fp_06737a9306'}, id='run-adb8b89d-d3cd-4ccd-9dae-6e9ac9b229cf', tool_calls=[{'name': 'tavily_search_results_json', 'args': {'query': '아이펠'}, 'id': 'call_H9md3TMX3qt7rTslBjXtxJBD', 'type': 'tool_call'}], tool_call_chunks=[{'name': 'tavily_search_results_json', 'args': '{\"query\":\"아이펠\"}', 'id': 'call_H9md3TMX3qt7rTslBjXtxJBD', 'index': 0, 'type': 'tool_call_chunk'}])], tool_call_id='call_H9md3TMX3qt7rTslBjXtxJBD')], 'messages': [AIMessageChunk(content='', additional_kwargs={'tool_calls': [{'index': 0, 'id': 'call_H9md3TMX3qt7rTslBjXtxJBD', 'function': {'arguments': '{\"query\":\"아이펠\"}', 'name': 'tavily_search_results_json'}, 'type': 'function'}]}, response_metadata={'finish_reason': 'tool_calls', 'model_name': 'gpt-4o-mini-2024-07-18', 'system_fingerprint': 'fp_06737a9306'}, id='run-adb8b89d-d3cd-4ccd-9dae-6e9ac9b229cf', tool_calls=[{'name': 'tavily_search_results_json', 'args': {'query': '아이펠'}, 'id': 'call_H9md3TMX3qt7rTslBjXtxJBD', 'type': 'tool_call'}], tool_call_chunks=[{'name': 'tavily_search_results_json', 'args': '{\"query\":\"아이펠\"}', 'id': 'call_H9md3TMX3qt7rTslBjXtxJBD', 'index': 0, 'type': 'tool_call_chunk'}])]}\n",
      "\n",
      "\n",
      "\n",
      "\n",
      "{'steps': [AgentStep(action=ToolAgentAction(tool='tavily_search_results_json', tool_input={'query': '아이펠'}, log=\"\\nInvoking: `tavily_search_results_json` with `{'query': '아이펠'}`\\n\\n\\n\", message_log=[AIMessageChunk(content='', additional_kwargs={'tool_calls': [{'index': 0, 'id': 'call_H9md3TMX3qt7rTslBjXtxJBD', 'function': {'arguments': '{\"query\":\"아이펠\"}', 'name': 'tavily_search_results_json'}, 'type': 'function'}]}, response_metadata={'finish_reason': 'tool_calls', 'model_name': 'gpt-4o-mini-2024-07-18', 'system_fingerprint': 'fp_06737a9306'}, id='run-adb8b89d-d3cd-4ccd-9dae-6e9ac9b229cf', tool_calls=[{'name': 'tavily_search_results_json', 'args': {'query': '아이펠'}, 'id': 'call_H9md3TMX3qt7rTslBjXtxJBD', 'type': 'tool_call'}], tool_call_chunks=[{'name': 'tavily_search_results_json', 'args': '{\"query\":\"아이펠\"}', 'id': 'call_H9md3TMX3qt7rTslBjXtxJBD', 'index': 0, 'type': 'tool_call_chunk'}])], tool_call_id='call_H9md3TMX3qt7rTslBjXtxJBD'), observation=[{'title': 'AI학교 아이펠', 'url': 'https://aiffel.io/', 'content': '아이펠은 커뮤니티 기반의 성장형 교육으로, 연구 모임(LAB), 스터디 모임(풀잎스쿨), AI 세미나(모두콘) 등 다양한 네트워킹 기회를 통해 지속적으로 성장할 수 있도록', 'score': 0.78611463}, {'title': '[AI학교 아이펠 ] (AI 코어 과정 / AI 리서치 과정) 온라인 8기', 'url': 'https://boottent.com/camps/aiffel-online_20231219092529', 'content': 'AI학교 아이펠 (AI 코어 과정 / AI 리서치 과정) | AI/ML, 데이터사이언스, 앱개발 부트캠프. 온라인(온라인, 풀타임)에서 진행하는 무료 부트캠프.', 'score': 0.64880073}, {'title': '아이펠 리서치 과정 궁금해? 퍼실리테이터가 직접 알려드립니다!', 'url': 'https://modulabs.co.kr/blog/introduce-aiffel-research-curriculum', 'content': '아이펠 리서치 과정은 인공지능 기초부터 AI를 대학원 수준으로 심도 있게 다룹니다. 또한 Multi Modal/MLOps 등 트렌드 기술스택도 학습합니다.', 'score': 0.61112726}, {'title': 'AIFFEL(아이펠) 솔직 후기 (스압주의, 긴글주의) | 모두의 연구소 인공 ...', 'url': 'https://iambeginnerdeveloper.tistory.com/171', 'content': '지난 6월부터 12월까지 모두의 연구소에서 주관하는 인공지능 개발자 양성과정인 AIFFEL(아이펠)에 참여했다. 정확히는 12월 16일에 끝나는데 나는 10', 'score': 0.55565286}, {'title': '클래스 | 모두의연구소 - 아이펠', 'url': 'https://kdc.aiffel.io/', 'content': '2025 AI 에이전트 시대 일잘러를 위한 온라인 클래스. 실무에 바로 적용할 수 있는 최신 AI/디지털 스킬로 더 똑똑하게 일하고, 커리어를 자신있게 성장시켜 보세요!', 'score': 0.44434834}])], 'messages': [FunctionMessage(content='[{\"title\": \"AI학교 아이펠\", \"url\": \"https://aiffel.io/\", \"content\": \"아이펠은 커뮤니티 기반의 성장형 교육으로, 연구 모임(LAB), 스터디 모임(풀잎스쿨), AI 세미나(모두콘) 등 다양한 네트워킹 기회를 통해 지속적으로 성장할 수 있도록\", \"score\": 0.78611463}, {\"title\": \"[AI학교 아이펠 ] (AI 코어 과정 / AI 리서치 과정) 온라인 8기\", \"url\": \"https://boottent.com/camps/aiffel-online_20231219092529\", \"content\": \"AI학교 아이펠 (AI 코어 과정 / AI 리서치 과정) | AI/ML, 데이터사이언스, 앱개발 부트캠프. 온라인(온라인, 풀타임)에서 진행하는 무료 부트캠프.\", \"score\": 0.64880073}, {\"title\": \"아이펠 리서치 과정 궁금해? 퍼실리테이터가 직접 알려드립니다!\", \"url\": \"https://modulabs.co.kr/blog/introduce-aiffel-research-curriculum\", \"content\": \"아이펠 리서치 과정은 인공지능 기초부터 AI를 대학원 수준으로 심도 있게 다룹니다. 또한 Multi Modal/MLOps 등 트렌드 기술스택도 학습합니다.\", \"score\": 0.61112726}, {\"title\": \"AIFFEL(아이펠) 솔직 후기 (스압주의, 긴글주의) | 모두의 연구소 인공 ...\", \"url\": \"https://iambeginnerdeveloper.tistory.com/171\", \"content\": \"지난 6월부터 12월까지 모두의 연구소에서 주관하는 인공지능 개발자 양성과정인 AIFFEL(아이펠)에 참여했다. 정확히는 12월 16일에 끝나는데 나는 10\", \"score\": 0.55565286}, {\"title\": \"클래스 | 모두의연구소 - 아이펠\", \"url\": \"https://kdc.aiffel.io/\", \"content\": \"2025 AI 에이전트 시대 일잘러를 위한 온라인 클래스. 실무에 바로 적용할 수 있는 최신 AI/디지털 스킬로 더 똑똑하게 일하고, 커리어를 자신있게 성장시켜 보세요!\", \"score\": 0.44434834}]', additional_kwargs={}, response_metadata={}, name='tavily_search_results_json')]}\n",
      "\n",
      "\n",
      "\n",
      "\n"
     ]
    }
   ],
   "source": [
    "import time\n",
    "\n",
    "for step in result:\n",
    "    print(step)\n",
    "    print(\"\\n\\n\\n\")\n",
    "    time.sleep(10)"
   ]
  }
 ],
 "metadata": {
  "kernelspec": {
   "display_name": "Modulabs",
   "language": "python",
   "name": "python3"
  },
  "language_info": {
   "codemirror_mode": {
    "name": "ipython",
    "version": 3
   },
   "file_extension": ".py",
   "mimetype": "text/x-python",
   "name": "python",
   "nbconvert_exporter": "python",
   "pygments_lexer": "ipython3",
   "version": "3.10.12"
  }
 },
 "nbformat": 4,
 "nbformat_minor": 2
}
